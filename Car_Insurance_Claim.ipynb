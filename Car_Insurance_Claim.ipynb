{
 "cells": [
  {
   "cell_type": "code",
   "execution_count": 1,
   "id": "0b2348d0",
   "metadata": {},
   "outputs": [],
   "source": [
    "import numpy as np # linear algebra\n",
    "import pandas as pd # data processing, CSV file I/O (e.g. pd.read_csv)\n",
    "import matplotlib.pyplot as plt #to plot charts\n",
    "import seaborn as sns #used for data visualization\n",
    "import warnings #avoid warning flash\n",
    "warnings.filterwarnings('ignore')"
   ]
  },
  {
   "cell_type": "code",
   "execution_count": 2,
   "id": "9c644318",
   "metadata": {},
   "outputs": [],
   "source": [
    "df=pd.read_csv('Car_Insurance_Claim.csv')"
   ]
  },
  {
   "cell_type": "code",
   "execution_count": 3,
   "id": "21785d74",
   "metadata": {},
   "outputs": [
    {
     "data": {
      "text/html": [
       "<div>\n",
       "<style scoped>\n",
       "    .dataframe tbody tr th:only-of-type {\n",
       "        vertical-align: middle;\n",
       "    }\n",
       "\n",
       "    .dataframe tbody tr th {\n",
       "        vertical-align: top;\n",
       "    }\n",
       "\n",
       "    .dataframe thead th {\n",
       "        text-align: right;\n",
       "    }\n",
       "</style>\n",
       "<table border=\"1\" class=\"dataframe\">\n",
       "  <thead>\n",
       "    <tr style=\"text-align: right;\">\n",
       "      <th></th>\n",
       "      <th>ID</th>\n",
       "      <th>AGE</th>\n",
       "      <th>GENDER</th>\n",
       "      <th>RACE</th>\n",
       "      <th>DRIVING_EXPERIENCE</th>\n",
       "      <th>EDUCATION</th>\n",
       "      <th>INCOME</th>\n",
       "      <th>CREDIT_SCORE</th>\n",
       "      <th>VEHICLE_OWNERSHIP</th>\n",
       "      <th>VEHICLE_YEAR</th>\n",
       "      <th>MARRIED</th>\n",
       "      <th>CHILDREN</th>\n",
       "      <th>POSTAL_CODE</th>\n",
       "      <th>ANNUAL_MILEAGE</th>\n",
       "      <th>VEHICLE_TYPE</th>\n",
       "      <th>SPEEDING_VIOLATIONS</th>\n",
       "      <th>DUIS</th>\n",
       "      <th>PAST_ACCIDENTS</th>\n",
       "      <th>OUTCOME</th>\n",
       "    </tr>\n",
       "  </thead>\n",
       "  <tbody>\n",
       "    <tr>\n",
       "      <th>0</th>\n",
       "      <td>569520</td>\n",
       "      <td>65+</td>\n",
       "      <td>female</td>\n",
       "      <td>majority</td>\n",
       "      <td>0-9y</td>\n",
       "      <td>high school</td>\n",
       "      <td>upper class</td>\n",
       "      <td>0.629027</td>\n",
       "      <td>1.0</td>\n",
       "      <td>after 2015</td>\n",
       "      <td>0.0</td>\n",
       "      <td>1.0</td>\n",
       "      <td>10238</td>\n",
       "      <td>12000.0</td>\n",
       "      <td>sedan</td>\n",
       "      <td>0</td>\n",
       "      <td>0</td>\n",
       "      <td>0</td>\n",
       "      <td>0.0</td>\n",
       "    </tr>\n",
       "    <tr>\n",
       "      <th>1</th>\n",
       "      <td>750365</td>\n",
       "      <td>16-25</td>\n",
       "      <td>male</td>\n",
       "      <td>majority</td>\n",
       "      <td>0-9y</td>\n",
       "      <td>none</td>\n",
       "      <td>poverty</td>\n",
       "      <td>0.357757</td>\n",
       "      <td>0.0</td>\n",
       "      <td>before 2015</td>\n",
       "      <td>0.0</td>\n",
       "      <td>0.0</td>\n",
       "      <td>10238</td>\n",
       "      <td>16000.0</td>\n",
       "      <td>sedan</td>\n",
       "      <td>0</td>\n",
       "      <td>0</td>\n",
       "      <td>0</td>\n",
       "      <td>1.0</td>\n",
       "    </tr>\n",
       "    <tr>\n",
       "      <th>2</th>\n",
       "      <td>199901</td>\n",
       "      <td>16-25</td>\n",
       "      <td>female</td>\n",
       "      <td>majority</td>\n",
       "      <td>0-9y</td>\n",
       "      <td>high school</td>\n",
       "      <td>working class</td>\n",
       "      <td>0.493146</td>\n",
       "      <td>1.0</td>\n",
       "      <td>before 2015</td>\n",
       "      <td>0.0</td>\n",
       "      <td>0.0</td>\n",
       "      <td>10238</td>\n",
       "      <td>11000.0</td>\n",
       "      <td>sedan</td>\n",
       "      <td>0</td>\n",
       "      <td>0</td>\n",
       "      <td>0</td>\n",
       "      <td>0.0</td>\n",
       "    </tr>\n",
       "    <tr>\n",
       "      <th>3</th>\n",
       "      <td>478866</td>\n",
       "      <td>16-25</td>\n",
       "      <td>male</td>\n",
       "      <td>majority</td>\n",
       "      <td>0-9y</td>\n",
       "      <td>university</td>\n",
       "      <td>working class</td>\n",
       "      <td>0.206013</td>\n",
       "      <td>1.0</td>\n",
       "      <td>before 2015</td>\n",
       "      <td>0.0</td>\n",
       "      <td>1.0</td>\n",
       "      <td>32765</td>\n",
       "      <td>11000.0</td>\n",
       "      <td>sedan</td>\n",
       "      <td>0</td>\n",
       "      <td>0</td>\n",
       "      <td>0</td>\n",
       "      <td>0.0</td>\n",
       "    </tr>\n",
       "    <tr>\n",
       "      <th>4</th>\n",
       "      <td>731664</td>\n",
       "      <td>26-39</td>\n",
       "      <td>male</td>\n",
       "      <td>majority</td>\n",
       "      <td>10-19y</td>\n",
       "      <td>none</td>\n",
       "      <td>working class</td>\n",
       "      <td>0.388366</td>\n",
       "      <td>1.0</td>\n",
       "      <td>before 2015</td>\n",
       "      <td>0.0</td>\n",
       "      <td>0.0</td>\n",
       "      <td>32765</td>\n",
       "      <td>12000.0</td>\n",
       "      <td>sedan</td>\n",
       "      <td>2</td>\n",
       "      <td>0</td>\n",
       "      <td>1</td>\n",
       "      <td>1.0</td>\n",
       "    </tr>\n",
       "  </tbody>\n",
       "</table>\n",
       "</div>"
      ],
      "text/plain": [
       "       ID    AGE  GENDER      RACE DRIVING_EXPERIENCE    EDUCATION  \\\n",
       "0  569520    65+  female  majority               0-9y  high school   \n",
       "1  750365  16-25    male  majority               0-9y         none   \n",
       "2  199901  16-25  female  majority               0-9y  high school   \n",
       "3  478866  16-25    male  majority               0-9y   university   \n",
       "4  731664  26-39    male  majority             10-19y         none   \n",
       "\n",
       "          INCOME  CREDIT_SCORE  VEHICLE_OWNERSHIP VEHICLE_YEAR  MARRIED  \\\n",
       "0    upper class      0.629027                1.0   after 2015      0.0   \n",
       "1        poverty      0.357757                0.0  before 2015      0.0   \n",
       "2  working class      0.493146                1.0  before 2015      0.0   \n",
       "3  working class      0.206013                1.0  before 2015      0.0   \n",
       "4  working class      0.388366                1.0  before 2015      0.0   \n",
       "\n",
       "   CHILDREN  POSTAL_CODE  ANNUAL_MILEAGE VEHICLE_TYPE  SPEEDING_VIOLATIONS  \\\n",
       "0       1.0        10238         12000.0        sedan                    0   \n",
       "1       0.0        10238         16000.0        sedan                    0   \n",
       "2       0.0        10238         11000.0        sedan                    0   \n",
       "3       1.0        32765         11000.0        sedan                    0   \n",
       "4       0.0        32765         12000.0        sedan                    2   \n",
       "\n",
       "   DUIS  PAST_ACCIDENTS  OUTCOME  \n",
       "0     0               0      0.0  \n",
       "1     0               0      1.0  \n",
       "2     0               0      0.0  \n",
       "3     0               0      0.0  \n",
       "4     0               1      1.0  "
      ]
     },
     "execution_count": 3,
     "metadata": {},
     "output_type": "execute_result"
    }
   ],
   "source": [
    "df.head()"
   ]
  },
  {
   "cell_type": "code",
   "execution_count": 4,
   "id": "362c51f3",
   "metadata": {},
   "outputs": [
    {
     "data": {
      "text/html": [
       "<div>\n",
       "<style scoped>\n",
       "    .dataframe tbody tr th:only-of-type {\n",
       "        vertical-align: middle;\n",
       "    }\n",
       "\n",
       "    .dataframe tbody tr th {\n",
       "        vertical-align: top;\n",
       "    }\n",
       "\n",
       "    .dataframe thead th {\n",
       "        text-align: right;\n",
       "    }\n",
       "</style>\n",
       "<table border=\"1\" class=\"dataframe\">\n",
       "  <thead>\n",
       "    <tr style=\"text-align: right;\">\n",
       "      <th></th>\n",
       "      <th>ID</th>\n",
       "      <th>AGE</th>\n",
       "      <th>GENDER</th>\n",
       "      <th>RACE</th>\n",
       "      <th>DRIVING_EXPERIENCE</th>\n",
       "      <th>EDUCATION</th>\n",
       "      <th>INCOME</th>\n",
       "      <th>CREDIT_SCORE</th>\n",
       "      <th>VEHICLE_OWNERSHIP</th>\n",
       "      <th>VEHICLE_YEAR</th>\n",
       "      <th>MARRIED</th>\n",
       "      <th>CHILDREN</th>\n",
       "      <th>POSTAL_CODE</th>\n",
       "      <th>ANNUAL_MILEAGE</th>\n",
       "      <th>VEHICLE_TYPE</th>\n",
       "      <th>SPEEDING_VIOLATIONS</th>\n",
       "      <th>DUIS</th>\n",
       "      <th>PAST_ACCIDENTS</th>\n",
       "      <th>OUTCOME</th>\n",
       "    </tr>\n",
       "  </thead>\n",
       "  <tbody>\n",
       "    <tr>\n",
       "      <th>7648</th>\n",
       "      <td>503770</td>\n",
       "      <td>40-64</td>\n",
       "      <td>male</td>\n",
       "      <td>majority</td>\n",
       "      <td>0-9y</td>\n",
       "      <td>high school</td>\n",
       "      <td>middle class</td>\n",
       "      <td>0.375119</td>\n",
       "      <td>1.0</td>\n",
       "      <td>before 2015</td>\n",
       "      <td>1.0</td>\n",
       "      <td>1.0</td>\n",
       "      <td>10238</td>\n",
       "      <td>NaN</td>\n",
       "      <td>sedan</td>\n",
       "      <td>0</td>\n",
       "      <td>0</td>\n",
       "      <td>0</td>\n",
       "      <td>0.0</td>\n",
       "    </tr>\n",
       "    <tr>\n",
       "      <th>1574</th>\n",
       "      <td>40228</td>\n",
       "      <td>26-39</td>\n",
       "      <td>male</td>\n",
       "      <td>majority</td>\n",
       "      <td>10-19y</td>\n",
       "      <td>none</td>\n",
       "      <td>working class</td>\n",
       "      <td>0.693922</td>\n",
       "      <td>0.0</td>\n",
       "      <td>before 2015</td>\n",
       "      <td>0.0</td>\n",
       "      <td>1.0</td>\n",
       "      <td>32765</td>\n",
       "      <td>11000.0</td>\n",
       "      <td>sedan</td>\n",
       "      <td>2</td>\n",
       "      <td>0</td>\n",
       "      <td>0</td>\n",
       "      <td>1.0</td>\n",
       "    </tr>\n",
       "    <tr>\n",
       "      <th>1778</th>\n",
       "      <td>442801</td>\n",
       "      <td>16-25</td>\n",
       "      <td>female</td>\n",
       "      <td>majority</td>\n",
       "      <td>0-9y</td>\n",
       "      <td>high school</td>\n",
       "      <td>poverty</td>\n",
       "      <td>0.308220</td>\n",
       "      <td>0.0</td>\n",
       "      <td>before 2015</td>\n",
       "      <td>0.0</td>\n",
       "      <td>0.0</td>\n",
       "      <td>32765</td>\n",
       "      <td>13000.0</td>\n",
       "      <td>sedan</td>\n",
       "      <td>0</td>\n",
       "      <td>0</td>\n",
       "      <td>0</td>\n",
       "      <td>1.0</td>\n",
       "    </tr>\n",
       "    <tr>\n",
       "      <th>6171</th>\n",
       "      <td>977100</td>\n",
       "      <td>40-64</td>\n",
       "      <td>male</td>\n",
       "      <td>majority</td>\n",
       "      <td>10-19y</td>\n",
       "      <td>university</td>\n",
       "      <td>middle class</td>\n",
       "      <td>0.546021</td>\n",
       "      <td>1.0</td>\n",
       "      <td>after 2015</td>\n",
       "      <td>1.0</td>\n",
       "      <td>1.0</td>\n",
       "      <td>21217</td>\n",
       "      <td>10000.0</td>\n",
       "      <td>sedan</td>\n",
       "      <td>1</td>\n",
       "      <td>0</td>\n",
       "      <td>0</td>\n",
       "      <td>1.0</td>\n",
       "    </tr>\n",
       "    <tr>\n",
       "      <th>3221</th>\n",
       "      <td>170435</td>\n",
       "      <td>16-25</td>\n",
       "      <td>female</td>\n",
       "      <td>majority</td>\n",
       "      <td>0-9y</td>\n",
       "      <td>high school</td>\n",
       "      <td>poverty</td>\n",
       "      <td>0.412637</td>\n",
       "      <td>1.0</td>\n",
       "      <td>before 2015</td>\n",
       "      <td>1.0</td>\n",
       "      <td>0.0</td>\n",
       "      <td>10238</td>\n",
       "      <td>13000.0</td>\n",
       "      <td>sedan</td>\n",
       "      <td>0</td>\n",
       "      <td>0</td>\n",
       "      <td>0</td>\n",
       "      <td>0.0</td>\n",
       "    </tr>\n",
       "    <tr>\n",
       "      <th>5983</th>\n",
       "      <td>744484</td>\n",
       "      <td>40-64</td>\n",
       "      <td>female</td>\n",
       "      <td>majority</td>\n",
       "      <td>20-29y</td>\n",
       "      <td>none</td>\n",
       "      <td>upper class</td>\n",
       "      <td>0.701491</td>\n",
       "      <td>1.0</td>\n",
       "      <td>before 2015</td>\n",
       "      <td>1.0</td>\n",
       "      <td>1.0</td>\n",
       "      <td>92101</td>\n",
       "      <td>9000.0</td>\n",
       "      <td>sedan</td>\n",
       "      <td>2</td>\n",
       "      <td>0</td>\n",
       "      <td>2</td>\n",
       "      <td>0.0</td>\n",
       "    </tr>\n",
       "    <tr>\n",
       "      <th>5548</th>\n",
       "      <td>661605</td>\n",
       "      <td>26-39</td>\n",
       "      <td>male</td>\n",
       "      <td>majority</td>\n",
       "      <td>10-19y</td>\n",
       "      <td>university</td>\n",
       "      <td>middle class</td>\n",
       "      <td>0.683451</td>\n",
       "      <td>0.0</td>\n",
       "      <td>before 2015</td>\n",
       "      <td>0.0</td>\n",
       "      <td>0.0</td>\n",
       "      <td>10238</td>\n",
       "      <td>15000.0</td>\n",
       "      <td>sedan</td>\n",
       "      <td>2</td>\n",
       "      <td>1</td>\n",
       "      <td>0</td>\n",
       "      <td>0.0</td>\n",
       "    </tr>\n",
       "    <tr>\n",
       "      <th>2005</th>\n",
       "      <td>125408</td>\n",
       "      <td>65+</td>\n",
       "      <td>male</td>\n",
       "      <td>majority</td>\n",
       "      <td>30y+</td>\n",
       "      <td>university</td>\n",
       "      <td>upper class</td>\n",
       "      <td>0.707905</td>\n",
       "      <td>1.0</td>\n",
       "      <td>after 2015</td>\n",
       "      <td>1.0</td>\n",
       "      <td>1.0</td>\n",
       "      <td>10238</td>\n",
       "      <td>12000.0</td>\n",
       "      <td>sedan</td>\n",
       "      <td>4</td>\n",
       "      <td>1</td>\n",
       "      <td>2</td>\n",
       "      <td>0.0</td>\n",
       "    </tr>\n",
       "    <tr>\n",
       "      <th>5503</th>\n",
       "      <td>809704</td>\n",
       "      <td>16-25</td>\n",
       "      <td>male</td>\n",
       "      <td>majority</td>\n",
       "      <td>0-9y</td>\n",
       "      <td>high school</td>\n",
       "      <td>poverty</td>\n",
       "      <td>0.526486</td>\n",
       "      <td>0.0</td>\n",
       "      <td>before 2015</td>\n",
       "      <td>0.0</td>\n",
       "      <td>0.0</td>\n",
       "      <td>32765</td>\n",
       "      <td>14000.0</td>\n",
       "      <td>sedan</td>\n",
       "      <td>0</td>\n",
       "      <td>0</td>\n",
       "      <td>0</td>\n",
       "      <td>1.0</td>\n",
       "    </tr>\n",
       "    <tr>\n",
       "      <th>9835</th>\n",
       "      <td>235196</td>\n",
       "      <td>16-25</td>\n",
       "      <td>male</td>\n",
       "      <td>majority</td>\n",
       "      <td>0-9y</td>\n",
       "      <td>none</td>\n",
       "      <td>poverty</td>\n",
       "      <td>0.355438</td>\n",
       "      <td>0.0</td>\n",
       "      <td>before 2015</td>\n",
       "      <td>0.0</td>\n",
       "      <td>1.0</td>\n",
       "      <td>10238</td>\n",
       "      <td>14000.0</td>\n",
       "      <td>sedan</td>\n",
       "      <td>0</td>\n",
       "      <td>0</td>\n",
       "      <td>0</td>\n",
       "      <td>1.0</td>\n",
       "    </tr>\n",
       "  </tbody>\n",
       "</table>\n",
       "</div>"
      ],
      "text/plain": [
       "          ID    AGE  GENDER      RACE DRIVING_EXPERIENCE    EDUCATION  \\\n",
       "7648  503770  40-64    male  majority               0-9y  high school   \n",
       "1574   40228  26-39    male  majority             10-19y         none   \n",
       "1778  442801  16-25  female  majority               0-9y  high school   \n",
       "6171  977100  40-64    male  majority             10-19y   university   \n",
       "3221  170435  16-25  female  majority               0-9y  high school   \n",
       "5983  744484  40-64  female  majority             20-29y         none   \n",
       "5548  661605  26-39    male  majority             10-19y   university   \n",
       "2005  125408    65+    male  majority               30y+   university   \n",
       "5503  809704  16-25    male  majority               0-9y  high school   \n",
       "9835  235196  16-25    male  majority               0-9y         none   \n",
       "\n",
       "             INCOME  CREDIT_SCORE  VEHICLE_OWNERSHIP VEHICLE_YEAR  MARRIED  \\\n",
       "7648   middle class      0.375119                1.0  before 2015      1.0   \n",
       "1574  working class      0.693922                0.0  before 2015      0.0   \n",
       "1778        poverty      0.308220                0.0  before 2015      0.0   \n",
       "6171   middle class      0.546021                1.0   after 2015      1.0   \n",
       "3221        poverty      0.412637                1.0  before 2015      1.0   \n",
       "5983    upper class      0.701491                1.0  before 2015      1.0   \n",
       "5548   middle class      0.683451                0.0  before 2015      0.0   \n",
       "2005    upper class      0.707905                1.0   after 2015      1.0   \n",
       "5503        poverty      0.526486                0.0  before 2015      0.0   \n",
       "9835        poverty      0.355438                0.0  before 2015      0.0   \n",
       "\n",
       "      CHILDREN  POSTAL_CODE  ANNUAL_MILEAGE VEHICLE_TYPE  SPEEDING_VIOLATIONS  \\\n",
       "7648       1.0        10238             NaN        sedan                    0   \n",
       "1574       1.0        32765         11000.0        sedan                    2   \n",
       "1778       0.0        32765         13000.0        sedan                    0   \n",
       "6171       1.0        21217         10000.0        sedan                    1   \n",
       "3221       0.0        10238         13000.0        sedan                    0   \n",
       "5983       1.0        92101          9000.0        sedan                    2   \n",
       "5548       0.0        10238         15000.0        sedan                    2   \n",
       "2005       1.0        10238         12000.0        sedan                    4   \n",
       "5503       0.0        32765         14000.0        sedan                    0   \n",
       "9835       1.0        10238         14000.0        sedan                    0   \n",
       "\n",
       "      DUIS  PAST_ACCIDENTS  OUTCOME  \n",
       "7648     0               0      0.0  \n",
       "1574     0               0      1.0  \n",
       "1778     0               0      1.0  \n",
       "6171     0               0      1.0  \n",
       "3221     0               0      0.0  \n",
       "5983     0               2      0.0  \n",
       "5548     1               0      0.0  \n",
       "2005     1               2      0.0  \n",
       "5503     0               0      1.0  \n",
       "9835     0               0      1.0  "
      ]
     },
     "execution_count": 4,
     "metadata": {},
     "output_type": "execute_result"
    }
   ],
   "source": [
    "df.sample(10)"
   ]
  },
  {
   "cell_type": "code",
   "execution_count": 5,
   "id": "185ab524",
   "metadata": {},
   "outputs": [
    {
     "name": "stdout",
     "output_type": "stream",
     "text": [
      "<class 'pandas.core.frame.DataFrame'>\n",
      "RangeIndex: 10000 entries, 0 to 9999\n",
      "Data columns (total 19 columns):\n",
      " #   Column               Non-Null Count  Dtype  \n",
      "---  ------               --------------  -----  \n",
      " 0   ID                   10000 non-null  int64  \n",
      " 1   AGE                  10000 non-null  object \n",
      " 2   GENDER               10000 non-null  object \n",
      " 3   RACE                 10000 non-null  object \n",
      " 4   DRIVING_EXPERIENCE   10000 non-null  object \n",
      " 5   EDUCATION            10000 non-null  object \n",
      " 6   INCOME               10000 non-null  object \n",
      " 7   CREDIT_SCORE         9018 non-null   float64\n",
      " 8   VEHICLE_OWNERSHIP    10000 non-null  float64\n",
      " 9   VEHICLE_YEAR         10000 non-null  object \n",
      " 10  MARRIED              10000 non-null  float64\n",
      " 11  CHILDREN             10000 non-null  float64\n",
      " 12  POSTAL_CODE          10000 non-null  int64  \n",
      " 13  ANNUAL_MILEAGE       9043 non-null   float64\n",
      " 14  VEHICLE_TYPE         10000 non-null  object \n",
      " 15  SPEEDING_VIOLATIONS  10000 non-null  int64  \n",
      " 16  DUIS                 10000 non-null  int64  \n",
      " 17  PAST_ACCIDENTS       10000 non-null  int64  \n",
      " 18  OUTCOME              10000 non-null  float64\n",
      "dtypes: float64(6), int64(5), object(8)\n",
      "memory usage: 1.4+ MB\n"
     ]
    }
   ],
   "source": [
    "df.info()"
   ]
  },
  {
   "cell_type": "code",
   "execution_count": 6,
   "id": "c48db2c4",
   "metadata": {},
   "outputs": [
    {
     "data": {
      "text/plain": [
       "ID                       0\n",
       "AGE                      0\n",
       "GENDER                   0\n",
       "RACE                     0\n",
       "DRIVING_EXPERIENCE       0\n",
       "EDUCATION                0\n",
       "INCOME                   0\n",
       "CREDIT_SCORE           982\n",
       "VEHICLE_OWNERSHIP        0\n",
       "VEHICLE_YEAR             0\n",
       "MARRIED                  0\n",
       "CHILDREN                 0\n",
       "POSTAL_CODE              0\n",
       "ANNUAL_MILEAGE         957\n",
       "VEHICLE_TYPE             0\n",
       "SPEEDING_VIOLATIONS      0\n",
       "DUIS                     0\n",
       "PAST_ACCIDENTS           0\n",
       "OUTCOME                  0\n",
       "dtype: int64"
      ]
     },
     "execution_count": 6,
     "metadata": {},
     "output_type": "execute_result"
    }
   ],
   "source": [
    "df.isnull().sum()"
   ]
  },
  {
   "cell_type": "code",
   "execution_count": 7,
   "id": "bad8c1f4",
   "metadata": {},
   "outputs": [
    {
     "data": {
      "text/plain": [
       "(10000, 19)"
      ]
     },
     "execution_count": 7,
     "metadata": {},
     "output_type": "execute_result"
    }
   ],
   "source": [
    "df.shape"
   ]
  },
  {
   "cell_type": "code",
   "execution_count": 8,
   "id": "3c7f08ed",
   "metadata": {},
   "outputs": [
    {
     "data": {
      "text/plain": [
       "AGE    INCOME         EDUCATION  \n",
       "16-25  middle class   high school    0.514329\n",
       "                      none           0.545391\n",
       "                      university     0.520045\n",
       "       poverty        high school    0.341497\n",
       "                      none           0.352442\n",
       "                      university     0.350841\n",
       "       upper class    high school    0.579973\n",
       "                      none           0.533414\n",
       "                      university     0.616526\n",
       "       working class  high school    0.434221\n",
       "                      none           0.418055\n",
       "                      university     0.425097\n",
       "26-39  middle class   high school    0.526995\n",
       "                      none           0.511972\n",
       "                      university     0.520071\n",
       "       poverty        high school    0.356702\n",
       "                      none           0.347802\n",
       "                      university     0.340098\n",
       "       upper class    high school    0.623426\n",
       "                      none           0.624397\n",
       "                      university     0.605435\n",
       "       working class  high school    0.437329\n",
       "                      none           0.435985\n",
       "                      university     0.429568\n",
       "40-64  middle class   high school    0.540640\n",
       "                      none           0.512561\n",
       "                      university     0.525332\n",
       "       poverty        high school    0.321370\n",
       "                      none           0.348683\n",
       "                      university     0.360864\n",
       "       upper class    high school    0.615133\n",
       "                      none           0.620697\n",
       "                      university     0.610918\n",
       "       working class  high school    0.431227\n",
       "                      none           0.423587\n",
       "                      university     0.448956\n",
       "65+    middle class   high school    0.510260\n",
       "                      none           0.498616\n",
       "                      university     0.515381\n",
       "       poverty        high school    0.443157\n",
       "                      none           0.388536\n",
       "       upper class    high school    0.616227\n",
       "                      none           0.615110\n",
       "                      university     0.616938\n",
       "       working class  high school    0.425559\n",
       "                      none           0.435589\n",
       "                      university     0.257134\n",
       "Name: CREDIT_SCORE, dtype: float64"
      ]
     },
     "execution_count": 8,
     "metadata": {},
     "output_type": "execute_result"
    }
   ],
   "source": [
    "df.groupby(['AGE','INCOME','EDUCATION']).CREDIT_SCORE.mean()"
   ]
  },
  {
   "cell_type": "code",
   "execution_count": 9,
   "id": "a055ed08",
   "metadata": {},
   "outputs": [
    {
     "data": {
      "text/plain": [
       "0"
      ]
     },
     "execution_count": 9,
     "metadata": {},
     "output_type": "execute_result"
    }
   ],
   "source": [
    "df.CREDIT_SCORE = df.groupby(['AGE','INCOME','EDUCATION']).CREDIT_SCORE.fillna(df.CREDIT_SCORE.mean())\n",
    "df.CREDIT_SCORE.isnull().sum()"
   ]
  },
  {
   "cell_type": "code",
   "execution_count": 10,
   "id": "a55a8a10",
   "metadata": {},
   "outputs": [
    {
     "data": {
      "text/plain": [
       "VEHICLE_TYPE  VEHICLE_YEAR\n",
       "sedan         after 2015      11392.223481\n",
       "              before 2015     11842.087599\n",
       "sports car    after 2015      10805.309735\n",
       "              before 2015     11832.298137\n",
       "Name: ANNUAL_MILEAGE, dtype: float64"
      ]
     },
     "execution_count": 10,
     "metadata": {},
     "output_type": "execute_result"
    }
   ],
   "source": [
    "df.groupby(['VEHICLE_TYPE','VEHICLE_YEAR']).ANNUAL_MILEAGE.mean()"
   ]
  },
  {
   "cell_type": "code",
   "execution_count": 11,
   "id": "88ef9ded",
   "metadata": {},
   "outputs": [
    {
     "data": {
      "text/plain": [
       "0"
      ]
     },
     "execution_count": 11,
     "metadata": {},
     "output_type": "execute_result"
    }
   ],
   "source": [
    "df.ANNUAL_MILEAGE = df.groupby(['VEHICLE_YEAR','VEHICLE_TYPE']).ANNUAL_MILEAGE.fillna(df.ANNUAL_MILEAGE.mean())\n",
    "df.ANNUAL_MILEAGE.isnull().sum()"
   ]
  },
  {
   "cell_type": "code",
   "execution_count": 12,
   "id": "9dcc1d68",
   "metadata": {},
   "outputs": [
    {
     "name": "stdout",
     "output_type": "stream",
     "text": [
      "<class 'pandas.core.frame.DataFrame'>\n",
      "RangeIndex: 10000 entries, 0 to 9999\n",
      "Data columns (total 19 columns):\n",
      " #   Column               Non-Null Count  Dtype  \n",
      "---  ------               --------------  -----  \n",
      " 0   ID                   10000 non-null  int64  \n",
      " 1   AGE                  10000 non-null  object \n",
      " 2   GENDER               10000 non-null  object \n",
      " 3   RACE                 10000 non-null  object \n",
      " 4   DRIVING_EXPERIENCE   10000 non-null  object \n",
      " 5   EDUCATION            10000 non-null  object \n",
      " 6   INCOME               10000 non-null  object \n",
      " 7   CREDIT_SCORE         10000 non-null  float64\n",
      " 8   VEHICLE_OWNERSHIP    10000 non-null  float64\n",
      " 9   VEHICLE_YEAR         10000 non-null  object \n",
      " 10  MARRIED              10000 non-null  float64\n",
      " 11  CHILDREN             10000 non-null  float64\n",
      " 12  POSTAL_CODE          10000 non-null  int64  \n",
      " 13  ANNUAL_MILEAGE       10000 non-null  float64\n",
      " 14  VEHICLE_TYPE         10000 non-null  object \n",
      " 15  SPEEDING_VIOLATIONS  10000 non-null  int64  \n",
      " 16  DUIS                 10000 non-null  int64  \n",
      " 17  PAST_ACCIDENTS       10000 non-null  int64  \n",
      " 18  OUTCOME              10000 non-null  float64\n",
      "dtypes: float64(6), int64(5), object(8)\n",
      "memory usage: 1.4+ MB\n"
     ]
    }
   ],
   "source": [
    "df.info()"
   ]
  },
  {
   "cell_type": "code",
   "execution_count": 13,
   "id": "150e5fbb",
   "metadata": {},
   "outputs": [
    {
     "data": {
      "text/plain": [
       "(10000, 19)"
      ]
     },
     "execution_count": 13,
     "metadata": {},
     "output_type": "execute_result"
    }
   ],
   "source": [
    "df.shape"
   ]
  },
  {
   "cell_type": "markdown",
   "id": "66ca37db",
   "metadata": {},
   "source": [
    "# Converting object value to numerical value"
   ]
  },
  {
   "cell_type": "code",
   "execution_count": 14,
   "id": "872ded01",
   "metadata": {},
   "outputs": [],
   "source": [
    "from sklearn.preprocessing import LabelEncoder\n",
    "\n",
    "LE_AGE=LabelEncoder()\n",
    "LE_GENDER=LabelEncoder()\n",
    "LE_RACE=LabelEncoder()\n",
    "LE_DRIVING_EXPERIENCE=LabelEncoder()\n",
    "LE_EDUCATION=LabelEncoder()\n",
    "LE_INCOME=LabelEncoder()\n",
    "LE_VEHICLE_YEAR=LabelEncoder()\n",
    "LE_VEHICLE_TYPE=LabelEncoder()\n",
    "df_int=df.copy()\n",
    "df_int['AGE_Num']=LE_AGE.fit_transform(df_int['AGE'])\n",
    "df_int['GENDER_Num']=LE_AGE.fit_transform(df_int['GENDER'])\n",
    "df_int['RACE_Num']=LE_AGE.fit_transform(df_int['RACE'])\n",
    "df_int['DRIVING_EXPERIENCE_Num']=LE_AGE.fit_transform(df_int['DRIVING_EXPERIENCE'])\n",
    "df_int['EDUCATION_Num']=LE_AGE.fit_transform(df_int['EDUCATION'])\n",
    "df_int['INCOME_Num']=LE_AGE.fit_transform(df_int['INCOME'])\n",
    "df_int['VEHICLE_YEAR_Num']=LE_AGE.fit_transform(df_int['VEHICLE_YEAR'])\n",
    "df_int['VEHICLE_TYPE_Num']=LE_AGE.fit_transform(df_int['VEHICLE_TYPE'])"
   ]
  },
  {
   "cell_type": "code",
   "execution_count": 15,
   "id": "a4b7bef0",
   "metadata": {},
   "outputs": [
    {
     "name": "stdout",
     "output_type": "stream",
     "text": [
      "<class 'pandas.core.frame.DataFrame'>\n",
      "RangeIndex: 10000 entries, 0 to 9999\n",
      "Data columns (total 27 columns):\n",
      " #   Column                  Non-Null Count  Dtype  \n",
      "---  ------                  --------------  -----  \n",
      " 0   ID                      10000 non-null  int64  \n",
      " 1   AGE                     10000 non-null  object \n",
      " 2   GENDER                  10000 non-null  object \n",
      " 3   RACE                    10000 non-null  object \n",
      " 4   DRIVING_EXPERIENCE      10000 non-null  object \n",
      " 5   EDUCATION               10000 non-null  object \n",
      " 6   INCOME                  10000 non-null  object \n",
      " 7   CREDIT_SCORE            10000 non-null  float64\n",
      " 8   VEHICLE_OWNERSHIP       10000 non-null  float64\n",
      " 9   VEHICLE_YEAR            10000 non-null  object \n",
      " 10  MARRIED                 10000 non-null  float64\n",
      " 11  CHILDREN                10000 non-null  float64\n",
      " 12  POSTAL_CODE             10000 non-null  int64  \n",
      " 13  ANNUAL_MILEAGE          10000 non-null  float64\n",
      " 14  VEHICLE_TYPE            10000 non-null  object \n",
      " 15  SPEEDING_VIOLATIONS     10000 non-null  int64  \n",
      " 16  DUIS                    10000 non-null  int64  \n",
      " 17  PAST_ACCIDENTS          10000 non-null  int64  \n",
      " 18  OUTCOME                 10000 non-null  float64\n",
      " 19  AGE_Num                 10000 non-null  int32  \n",
      " 20  GENDER_Num              10000 non-null  int32  \n",
      " 21  RACE_Num                10000 non-null  int32  \n",
      " 22  DRIVING_EXPERIENCE_Num  10000 non-null  int32  \n",
      " 23  EDUCATION_Num           10000 non-null  int32  \n",
      " 24  INCOME_Num              10000 non-null  int32  \n",
      " 25  VEHICLE_YEAR_Num        10000 non-null  int32  \n",
      " 26  VEHICLE_TYPE_Num        10000 non-null  int32  \n",
      "dtypes: float64(6), int32(8), int64(5), object(8)\n",
      "memory usage: 1.8+ MB\n"
     ]
    }
   ],
   "source": [
    "df_int.info()"
   ]
  },
  {
   "cell_type": "code",
   "execution_count": 16,
   "id": "bb1ba348",
   "metadata": {},
   "outputs": [],
   "source": [
    "df_int=df_int.drop(['AGE','GENDER','RACE','DRIVING_EXPERIENCE','EDUCATION','INCOME','VEHICLE_YEAR','VEHICLE_TYPE'],axis='columns')"
   ]
  },
  {
   "cell_type": "code",
   "execution_count": 17,
   "id": "0f32d0b5",
   "metadata": {},
   "outputs": [
    {
     "name": "stdout",
     "output_type": "stream",
     "text": [
      "<class 'pandas.core.frame.DataFrame'>\n",
      "RangeIndex: 10000 entries, 0 to 9999\n",
      "Data columns (total 19 columns):\n",
      " #   Column                  Non-Null Count  Dtype  \n",
      "---  ------                  --------------  -----  \n",
      " 0   ID                      10000 non-null  int64  \n",
      " 1   CREDIT_SCORE            10000 non-null  float64\n",
      " 2   VEHICLE_OWNERSHIP       10000 non-null  float64\n",
      " 3   MARRIED                 10000 non-null  float64\n",
      " 4   CHILDREN                10000 non-null  float64\n",
      " 5   POSTAL_CODE             10000 non-null  int64  \n",
      " 6   ANNUAL_MILEAGE          10000 non-null  float64\n",
      " 7   SPEEDING_VIOLATIONS     10000 non-null  int64  \n",
      " 8   DUIS                    10000 non-null  int64  \n",
      " 9   PAST_ACCIDENTS          10000 non-null  int64  \n",
      " 10  OUTCOME                 10000 non-null  float64\n",
      " 11  AGE_Num                 10000 non-null  int32  \n",
      " 12  GENDER_Num              10000 non-null  int32  \n",
      " 13  RACE_Num                10000 non-null  int32  \n",
      " 14  DRIVING_EXPERIENCE_Num  10000 non-null  int32  \n",
      " 15  EDUCATION_Num           10000 non-null  int32  \n",
      " 16  INCOME_Num              10000 non-null  int32  \n",
      " 17  VEHICLE_YEAR_Num        10000 non-null  int32  \n",
      " 18  VEHICLE_TYPE_Num        10000 non-null  int32  \n",
      "dtypes: float64(6), int32(8), int64(5)\n",
      "memory usage: 1.1 MB\n"
     ]
    }
   ],
   "source": [
    "df_int.info()"
   ]
  },
  {
   "cell_type": "code",
   "execution_count": 18,
   "id": "35b52721",
   "metadata": {},
   "outputs": [
    {
     "data": {
      "text/html": [
       "<div>\n",
       "<style scoped>\n",
       "    .dataframe tbody tr th:only-of-type {\n",
       "        vertical-align: middle;\n",
       "    }\n",
       "\n",
       "    .dataframe tbody tr th {\n",
       "        vertical-align: top;\n",
       "    }\n",
       "\n",
       "    .dataframe thead th {\n",
       "        text-align: right;\n",
       "    }\n",
       "</style>\n",
       "<table border=\"1\" class=\"dataframe\">\n",
       "  <thead>\n",
       "    <tr style=\"text-align: right;\">\n",
       "      <th></th>\n",
       "      <th>ID</th>\n",
       "      <th>CREDIT_SCORE</th>\n",
       "      <th>VEHICLE_OWNERSHIP</th>\n",
       "      <th>MARRIED</th>\n",
       "      <th>CHILDREN</th>\n",
       "      <th>POSTAL_CODE</th>\n",
       "      <th>ANNUAL_MILEAGE</th>\n",
       "      <th>SPEEDING_VIOLATIONS</th>\n",
       "      <th>DUIS</th>\n",
       "      <th>PAST_ACCIDENTS</th>\n",
       "      <th>OUTCOME</th>\n",
       "      <th>AGE_Num</th>\n",
       "      <th>GENDER_Num</th>\n",
       "      <th>RACE_Num</th>\n",
       "      <th>DRIVING_EXPERIENCE_Num</th>\n",
       "      <th>EDUCATION_Num</th>\n",
       "      <th>INCOME_Num</th>\n",
       "      <th>VEHICLE_YEAR_Num</th>\n",
       "      <th>VEHICLE_TYPE_Num</th>\n",
       "    </tr>\n",
       "  </thead>\n",
       "  <tbody>\n",
       "    <tr>\n",
       "      <th>4851</th>\n",
       "      <td>511060</td>\n",
       "      <td>0.499263</td>\n",
       "      <td>1.0</td>\n",
       "      <td>1.0</td>\n",
       "      <td>1.0</td>\n",
       "      <td>10238</td>\n",
       "      <td>9000.000000</td>\n",
       "      <td>1</td>\n",
       "      <td>0</td>\n",
       "      <td>2</td>\n",
       "      <td>0.0</td>\n",
       "      <td>1</td>\n",
       "      <td>1</td>\n",
       "      <td>0</td>\n",
       "      <td>1</td>\n",
       "      <td>0</td>\n",
       "      <td>3</td>\n",
       "      <td>1</td>\n",
       "      <td>0</td>\n",
       "    </tr>\n",
       "    <tr>\n",
       "      <th>3260</th>\n",
       "      <td>389152</td>\n",
       "      <td>0.600231</td>\n",
       "      <td>1.0</td>\n",
       "      <td>1.0</td>\n",
       "      <td>1.0</td>\n",
       "      <td>32765</td>\n",
       "      <td>7000.000000</td>\n",
       "      <td>0</td>\n",
       "      <td>0</td>\n",
       "      <td>0</td>\n",
       "      <td>0.0</td>\n",
       "      <td>0</td>\n",
       "      <td>0</td>\n",
       "      <td>0</td>\n",
       "      <td>0</td>\n",
       "      <td>0</td>\n",
       "      <td>0</td>\n",
       "      <td>0</td>\n",
       "      <td>0</td>\n",
       "    </tr>\n",
       "    <tr>\n",
       "      <th>1498</th>\n",
       "      <td>460696</td>\n",
       "      <td>0.665804</td>\n",
       "      <td>1.0</td>\n",
       "      <td>0.0</td>\n",
       "      <td>0.0</td>\n",
       "      <td>32765</td>\n",
       "      <td>11000.000000</td>\n",
       "      <td>0</td>\n",
       "      <td>0</td>\n",
       "      <td>0</td>\n",
       "      <td>0.0</td>\n",
       "      <td>0</td>\n",
       "      <td>0</td>\n",
       "      <td>0</td>\n",
       "      <td>0</td>\n",
       "      <td>2</td>\n",
       "      <td>0</td>\n",
       "      <td>0</td>\n",
       "      <td>0</td>\n",
       "    </tr>\n",
       "    <tr>\n",
       "      <th>7872</th>\n",
       "      <td>424121</td>\n",
       "      <td>0.627382</td>\n",
       "      <td>0.0</td>\n",
       "      <td>0.0</td>\n",
       "      <td>0.0</td>\n",
       "      <td>32765</td>\n",
       "      <td>12000.000000</td>\n",
       "      <td>0</td>\n",
       "      <td>0</td>\n",
       "      <td>0</td>\n",
       "      <td>0.0</td>\n",
       "      <td>1</td>\n",
       "      <td>0</td>\n",
       "      <td>0</td>\n",
       "      <td>0</td>\n",
       "      <td>0</td>\n",
       "      <td>0</td>\n",
       "      <td>0</td>\n",
       "      <td>0</td>\n",
       "    </tr>\n",
       "    <tr>\n",
       "      <th>815</th>\n",
       "      <td>968115</td>\n",
       "      <td>0.515813</td>\n",
       "      <td>1.0</td>\n",
       "      <td>1.0</td>\n",
       "      <td>1.0</td>\n",
       "      <td>10238</td>\n",
       "      <td>12000.000000</td>\n",
       "      <td>5</td>\n",
       "      <td>0</td>\n",
       "      <td>8</td>\n",
       "      <td>0.0</td>\n",
       "      <td>3</td>\n",
       "      <td>1</td>\n",
       "      <td>0</td>\n",
       "      <td>3</td>\n",
       "      <td>2</td>\n",
       "      <td>2</td>\n",
       "      <td>0</td>\n",
       "      <td>0</td>\n",
       "    </tr>\n",
       "    <tr>\n",
       "      <th>5733</th>\n",
       "      <td>167554</td>\n",
       "      <td>0.619797</td>\n",
       "      <td>1.0</td>\n",
       "      <td>0.0</td>\n",
       "      <td>0.0</td>\n",
       "      <td>32765</td>\n",
       "      <td>17000.000000</td>\n",
       "      <td>1</td>\n",
       "      <td>0</td>\n",
       "      <td>0</td>\n",
       "      <td>1.0</td>\n",
       "      <td>1</td>\n",
       "      <td>1</td>\n",
       "      <td>0</td>\n",
       "      <td>1</td>\n",
       "      <td>2</td>\n",
       "      <td>2</td>\n",
       "      <td>1</td>\n",
       "      <td>0</td>\n",
       "    </tr>\n",
       "    <tr>\n",
       "      <th>9954</th>\n",
       "      <td>417843</td>\n",
       "      <td>0.634927</td>\n",
       "      <td>1.0</td>\n",
       "      <td>1.0</td>\n",
       "      <td>1.0</td>\n",
       "      <td>10238</td>\n",
       "      <td>15000.000000</td>\n",
       "      <td>0</td>\n",
       "      <td>2</td>\n",
       "      <td>0</td>\n",
       "      <td>0.0</td>\n",
       "      <td>2</td>\n",
       "      <td>0</td>\n",
       "      <td>0</td>\n",
       "      <td>2</td>\n",
       "      <td>2</td>\n",
       "      <td>2</td>\n",
       "      <td>0</td>\n",
       "      <td>0</td>\n",
       "    </tr>\n",
       "    <tr>\n",
       "      <th>7435</th>\n",
       "      <td>308296</td>\n",
       "      <td>0.285006</td>\n",
       "      <td>0.0</td>\n",
       "      <td>0.0</td>\n",
       "      <td>0.0</td>\n",
       "      <td>10238</td>\n",
       "      <td>11697.003207</td>\n",
       "      <td>0</td>\n",
       "      <td>0</td>\n",
       "      <td>0</td>\n",
       "      <td>1.0</td>\n",
       "      <td>0</td>\n",
       "      <td>0</td>\n",
       "      <td>0</td>\n",
       "      <td>0</td>\n",
       "      <td>0</td>\n",
       "      <td>1</td>\n",
       "      <td>1</td>\n",
       "      <td>0</td>\n",
       "    </tr>\n",
       "    <tr>\n",
       "      <th>460</th>\n",
       "      <td>732956</td>\n",
       "      <td>0.552741</td>\n",
       "      <td>0.0</td>\n",
       "      <td>0.0</td>\n",
       "      <td>0.0</td>\n",
       "      <td>10238</td>\n",
       "      <td>16000.000000</td>\n",
       "      <td>0</td>\n",
       "      <td>0</td>\n",
       "      <td>3</td>\n",
       "      <td>1.0</td>\n",
       "      <td>1</td>\n",
       "      <td>0</td>\n",
       "      <td>1</td>\n",
       "      <td>1</td>\n",
       "      <td>0</td>\n",
       "      <td>0</td>\n",
       "      <td>1</td>\n",
       "      <td>0</td>\n",
       "    </tr>\n",
       "    <tr>\n",
       "      <th>5073</th>\n",
       "      <td>892833</td>\n",
       "      <td>0.566076</td>\n",
       "      <td>1.0</td>\n",
       "      <td>0.0</td>\n",
       "      <td>1.0</td>\n",
       "      <td>32765</td>\n",
       "      <td>11000.000000</td>\n",
       "      <td>5</td>\n",
       "      <td>0</td>\n",
       "      <td>0</td>\n",
       "      <td>0.0</td>\n",
       "      <td>1</td>\n",
       "      <td>1</td>\n",
       "      <td>0</td>\n",
       "      <td>1</td>\n",
       "      <td>0</td>\n",
       "      <td>0</td>\n",
       "      <td>1</td>\n",
       "      <td>0</td>\n",
       "    </tr>\n",
       "    <tr>\n",
       "      <th>9665</th>\n",
       "      <td>813821</td>\n",
       "      <td>0.662718</td>\n",
       "      <td>1.0</td>\n",
       "      <td>0.0</td>\n",
       "      <td>0.0</td>\n",
       "      <td>10238</td>\n",
       "      <td>11000.000000</td>\n",
       "      <td>0</td>\n",
       "      <td>0</td>\n",
       "      <td>0</td>\n",
       "      <td>1.0</td>\n",
       "      <td>2</td>\n",
       "      <td>1</td>\n",
       "      <td>0</td>\n",
       "      <td>0</td>\n",
       "      <td>2</td>\n",
       "      <td>2</td>\n",
       "      <td>1</td>\n",
       "      <td>0</td>\n",
       "    </tr>\n",
       "    <tr>\n",
       "      <th>8493</th>\n",
       "      <td>138696</td>\n",
       "      <td>0.506203</td>\n",
       "      <td>0.0</td>\n",
       "      <td>0.0</td>\n",
       "      <td>0.0</td>\n",
       "      <td>32765</td>\n",
       "      <td>10000.000000</td>\n",
       "      <td>0</td>\n",
       "      <td>0</td>\n",
       "      <td>0</td>\n",
       "      <td>1.0</td>\n",
       "      <td>0</td>\n",
       "      <td>1</td>\n",
       "      <td>0</td>\n",
       "      <td>0</td>\n",
       "      <td>0</td>\n",
       "      <td>3</td>\n",
       "      <td>1</td>\n",
       "      <td>0</td>\n",
       "    </tr>\n",
       "    <tr>\n",
       "      <th>1274</th>\n",
       "      <td>18293</td>\n",
       "      <td>0.275662</td>\n",
       "      <td>0.0</td>\n",
       "      <td>0.0</td>\n",
       "      <td>0.0</td>\n",
       "      <td>32765</td>\n",
       "      <td>11697.003207</td>\n",
       "      <td>0</td>\n",
       "      <td>0</td>\n",
       "      <td>0</td>\n",
       "      <td>1.0</td>\n",
       "      <td>0</td>\n",
       "      <td>1</td>\n",
       "      <td>0</td>\n",
       "      <td>0</td>\n",
       "      <td>0</td>\n",
       "      <td>1</td>\n",
       "      <td>1</td>\n",
       "      <td>0</td>\n",
       "    </tr>\n",
       "    <tr>\n",
       "      <th>5601</th>\n",
       "      <td>584626</td>\n",
       "      <td>0.319749</td>\n",
       "      <td>1.0</td>\n",
       "      <td>1.0</td>\n",
       "      <td>1.0</td>\n",
       "      <td>10238</td>\n",
       "      <td>9000.000000</td>\n",
       "      <td>0</td>\n",
       "      <td>0</td>\n",
       "      <td>0</td>\n",
       "      <td>0.0</td>\n",
       "      <td>0</td>\n",
       "      <td>1</td>\n",
       "      <td>0</td>\n",
       "      <td>0</td>\n",
       "      <td>0</td>\n",
       "      <td>0</td>\n",
       "      <td>1</td>\n",
       "      <td>0</td>\n",
       "    </tr>\n",
       "    <tr>\n",
       "      <th>3922</th>\n",
       "      <td>92583</td>\n",
       "      <td>0.748426</td>\n",
       "      <td>1.0</td>\n",
       "      <td>1.0</td>\n",
       "      <td>0.0</td>\n",
       "      <td>32765</td>\n",
       "      <td>11000.000000</td>\n",
       "      <td>0</td>\n",
       "      <td>0</td>\n",
       "      <td>0</td>\n",
       "      <td>1.0</td>\n",
       "      <td>2</td>\n",
       "      <td>1</td>\n",
       "      <td>0</td>\n",
       "      <td>0</td>\n",
       "      <td>0</td>\n",
       "      <td>2</td>\n",
       "      <td>1</td>\n",
       "      <td>0</td>\n",
       "    </tr>\n",
       "    <tr>\n",
       "      <th>4379</th>\n",
       "      <td>316348</td>\n",
       "      <td>0.444152</td>\n",
       "      <td>1.0</td>\n",
       "      <td>0.0</td>\n",
       "      <td>1.0</td>\n",
       "      <td>32765</td>\n",
       "      <td>11000.000000</td>\n",
       "      <td>4</td>\n",
       "      <td>0</td>\n",
       "      <td>1</td>\n",
       "      <td>1.0</td>\n",
       "      <td>1</td>\n",
       "      <td>1</td>\n",
       "      <td>1</td>\n",
       "      <td>1</td>\n",
       "      <td>2</td>\n",
       "      <td>0</td>\n",
       "      <td>1</td>\n",
       "      <td>0</td>\n",
       "    </tr>\n",
       "    <tr>\n",
       "      <th>9584</th>\n",
       "      <td>837522</td>\n",
       "      <td>0.559501</td>\n",
       "      <td>1.0</td>\n",
       "      <td>1.0</td>\n",
       "      <td>0.0</td>\n",
       "      <td>21217</td>\n",
       "      <td>12000.000000</td>\n",
       "      <td>0</td>\n",
       "      <td>0</td>\n",
       "      <td>0</td>\n",
       "      <td>1.0</td>\n",
       "      <td>1</td>\n",
       "      <td>0</td>\n",
       "      <td>0</td>\n",
       "      <td>1</td>\n",
       "      <td>2</td>\n",
       "      <td>2</td>\n",
       "      <td>1</td>\n",
       "      <td>0</td>\n",
       "    </tr>\n",
       "    <tr>\n",
       "      <th>4050</th>\n",
       "      <td>557185</td>\n",
       "      <td>0.515813</td>\n",
       "      <td>1.0</td>\n",
       "      <td>1.0</td>\n",
       "      <td>1.0</td>\n",
       "      <td>10238</td>\n",
       "      <td>9000.000000</td>\n",
       "      <td>2</td>\n",
       "      <td>0</td>\n",
       "      <td>2</td>\n",
       "      <td>0.0</td>\n",
       "      <td>3</td>\n",
       "      <td>0</td>\n",
       "      <td>0</td>\n",
       "      <td>3</td>\n",
       "      <td>2</td>\n",
       "      <td>2</td>\n",
       "      <td>0</td>\n",
       "      <td>0</td>\n",
       "    </tr>\n",
       "    <tr>\n",
       "      <th>3122</th>\n",
       "      <td>466544</td>\n",
       "      <td>0.572334</td>\n",
       "      <td>1.0</td>\n",
       "      <td>1.0</td>\n",
       "      <td>1.0</td>\n",
       "      <td>10238</td>\n",
       "      <td>13000.000000</td>\n",
       "      <td>4</td>\n",
       "      <td>0</td>\n",
       "      <td>5</td>\n",
       "      <td>0.0</td>\n",
       "      <td>3</td>\n",
       "      <td>1</td>\n",
       "      <td>0</td>\n",
       "      <td>3</td>\n",
       "      <td>2</td>\n",
       "      <td>2</td>\n",
       "      <td>0</td>\n",
       "      <td>0</td>\n",
       "    </tr>\n",
       "    <tr>\n",
       "      <th>1679</th>\n",
       "      <td>562564</td>\n",
       "      <td>0.832792</td>\n",
       "      <td>1.0</td>\n",
       "      <td>1.0</td>\n",
       "      <td>1.0</td>\n",
       "      <td>10238</td>\n",
       "      <td>14000.000000</td>\n",
       "      <td>2</td>\n",
       "      <td>0</td>\n",
       "      <td>2</td>\n",
       "      <td>0.0</td>\n",
       "      <td>1</td>\n",
       "      <td>0</td>\n",
       "      <td>0</td>\n",
       "      <td>1</td>\n",
       "      <td>2</td>\n",
       "      <td>2</td>\n",
       "      <td>1</td>\n",
       "      <td>0</td>\n",
       "    </tr>\n",
       "  </tbody>\n",
       "</table>\n",
       "</div>"
      ],
      "text/plain": [
       "          ID  CREDIT_SCORE  VEHICLE_OWNERSHIP  MARRIED  CHILDREN  POSTAL_CODE  \\\n",
       "4851  511060      0.499263                1.0      1.0       1.0        10238   \n",
       "3260  389152      0.600231                1.0      1.0       1.0        32765   \n",
       "1498  460696      0.665804                1.0      0.0       0.0        32765   \n",
       "7872  424121      0.627382                0.0      0.0       0.0        32765   \n",
       "815   968115      0.515813                1.0      1.0       1.0        10238   \n",
       "5733  167554      0.619797                1.0      0.0       0.0        32765   \n",
       "9954  417843      0.634927                1.0      1.0       1.0        10238   \n",
       "7435  308296      0.285006                0.0      0.0       0.0        10238   \n",
       "460   732956      0.552741                0.0      0.0       0.0        10238   \n",
       "5073  892833      0.566076                1.0      0.0       1.0        32765   \n",
       "9665  813821      0.662718                1.0      0.0       0.0        10238   \n",
       "8493  138696      0.506203                0.0      0.0       0.0        32765   \n",
       "1274   18293      0.275662                0.0      0.0       0.0        32765   \n",
       "5601  584626      0.319749                1.0      1.0       1.0        10238   \n",
       "3922   92583      0.748426                1.0      1.0       0.0        32765   \n",
       "4379  316348      0.444152                1.0      0.0       1.0        32765   \n",
       "9584  837522      0.559501                1.0      1.0       0.0        21217   \n",
       "4050  557185      0.515813                1.0      1.0       1.0        10238   \n",
       "3122  466544      0.572334                1.0      1.0       1.0        10238   \n",
       "1679  562564      0.832792                1.0      1.0       1.0        10238   \n",
       "\n",
       "      ANNUAL_MILEAGE  SPEEDING_VIOLATIONS  DUIS  PAST_ACCIDENTS  OUTCOME  \\\n",
       "4851     9000.000000                    1     0               2      0.0   \n",
       "3260     7000.000000                    0     0               0      0.0   \n",
       "1498    11000.000000                    0     0               0      0.0   \n",
       "7872    12000.000000                    0     0               0      0.0   \n",
       "815     12000.000000                    5     0               8      0.0   \n",
       "5733    17000.000000                    1     0               0      1.0   \n",
       "9954    15000.000000                    0     2               0      0.0   \n",
       "7435    11697.003207                    0     0               0      1.0   \n",
       "460     16000.000000                    0     0               3      1.0   \n",
       "5073    11000.000000                    5     0               0      0.0   \n",
       "9665    11000.000000                    0     0               0      1.0   \n",
       "8493    10000.000000                    0     0               0      1.0   \n",
       "1274    11697.003207                    0     0               0      1.0   \n",
       "5601     9000.000000                    0     0               0      0.0   \n",
       "3922    11000.000000                    0     0               0      1.0   \n",
       "4379    11000.000000                    4     0               1      1.0   \n",
       "9584    12000.000000                    0     0               0      1.0   \n",
       "4050     9000.000000                    2     0               2      0.0   \n",
       "3122    13000.000000                    4     0               5      0.0   \n",
       "1679    14000.000000                    2     0               2      0.0   \n",
       "\n",
       "      AGE_Num  GENDER_Num  RACE_Num  DRIVING_EXPERIENCE_Num  EDUCATION_Num  \\\n",
       "4851        1           1         0                       1              0   \n",
       "3260        0           0         0                       0              0   \n",
       "1498        0           0         0                       0              2   \n",
       "7872        1           0         0                       0              0   \n",
       "815         3           1         0                       3              2   \n",
       "5733        1           1         0                       1              2   \n",
       "9954        2           0         0                       2              2   \n",
       "7435        0           0         0                       0              0   \n",
       "460         1           0         1                       1              0   \n",
       "5073        1           1         0                       1              0   \n",
       "9665        2           1         0                       0              2   \n",
       "8493        0           1         0                       0              0   \n",
       "1274        0           1         0                       0              0   \n",
       "5601        0           1         0                       0              0   \n",
       "3922        2           1         0                       0              0   \n",
       "4379        1           1         1                       1              2   \n",
       "9584        1           0         0                       1              2   \n",
       "4050        3           0         0                       3              2   \n",
       "3122        3           1         0                       3              2   \n",
       "1679        1           0         0                       1              2   \n",
       "\n",
       "      INCOME_Num  VEHICLE_YEAR_Num  VEHICLE_TYPE_Num  \n",
       "4851           3                 1                 0  \n",
       "3260           0                 0                 0  \n",
       "1498           0                 0                 0  \n",
       "7872           0                 0                 0  \n",
       "815            2                 0                 0  \n",
       "5733           2                 1                 0  \n",
       "9954           2                 0                 0  \n",
       "7435           1                 1                 0  \n",
       "460            0                 1                 0  \n",
       "5073           0                 1                 0  \n",
       "9665           2                 1                 0  \n",
       "8493           3                 1                 0  \n",
       "1274           1                 1                 0  \n",
       "5601           0                 1                 0  \n",
       "3922           2                 1                 0  \n",
       "4379           0                 1                 0  \n",
       "9584           2                 1                 0  \n",
       "4050           2                 0                 0  \n",
       "3122           2                 0                 0  \n",
       "1679           2                 1                 0  "
      ]
     },
     "execution_count": 18,
     "metadata": {},
     "output_type": "execute_result"
    }
   ],
   "source": [
    "df_int.sample(20)"
   ]
  },
  {
   "cell_type": "code",
   "execution_count": 19,
   "id": "6e1d380d",
   "metadata": {},
   "outputs": [
    {
     "data": {
      "text/plain": [
       "ID                        0\n",
       "CREDIT_SCORE              0\n",
       "VEHICLE_OWNERSHIP         0\n",
       "MARRIED                   0\n",
       "CHILDREN                  0\n",
       "POSTAL_CODE               0\n",
       "ANNUAL_MILEAGE            0\n",
       "SPEEDING_VIOLATIONS       0\n",
       "DUIS                      0\n",
       "PAST_ACCIDENTS            0\n",
       "OUTCOME                   0\n",
       "AGE_Num                   0\n",
       "GENDER_Num                0\n",
       "RACE_Num                  0\n",
       "DRIVING_EXPERIENCE_Num    0\n",
       "EDUCATION_Num             0\n",
       "INCOME_Num                0\n",
       "VEHICLE_YEAR_Num          0\n",
       "VEHICLE_TYPE_Num          0\n",
       "dtype: int64"
      ]
     },
     "execution_count": 19,
     "metadata": {},
     "output_type": "execute_result"
    }
   ],
   "source": [
    "df_int.isnull().sum()"
   ]
  },
  {
   "cell_type": "markdown",
   "id": "7cc121ea",
   "metadata": {},
   "source": [
    "# Outliers Removal"
   ]
  },
  {
   "cell_type": "code",
   "execution_count": 20,
   "id": "c80cf643",
   "metadata": {},
   "outputs": [
    {
     "data": {
      "image/png": "[encoded data removed]",
      "text/plain": [
       "<Figure size 2000x1500 with 1 Axes>"
      ]
     },
     "metadata": {},
     "output_type": "display_data"
    }
   ],
   "source": [
    "# boxplot of all the features\n",
    "\n",
    "# create boxplot of all the features\n",
    "df_int.boxplot(figsize=(20,15))\n",
    "\n",
    "# add title with size and position\n",
    "plt.suptitle('Boxplot',x=0.5,y=1.02,ha='center',fontsize='large')\n",
    "\n",
    "# maintain perfect gaps between all plots\n",
    "plt.tight_layout()\n",
    "plt.show()"
   ]
  },
  {
   "cell_type": "code",
   "execution_count": 21,
   "id": "fcde8c52",
   "metadata": {},
   "outputs": [
    {
     "name": "stdout",
     "output_type": "stream",
     "text": [
      "ID 0\n",
      "CREDIT_SCORE 57\n",
      "VEHICLE_OWNERSHIP 0\n",
      "MARRIED 0\n",
      "CHILDREN 0\n",
      "POSTAL_CODE 484\n",
      "ANNUAL_MILEAGE 273\n",
      "SPEEDING_VIOLATIONS 588\n",
      "DUIS 1882\n",
      "PAST_ACCIDENTS 285\n",
      "AGE_Num 0\n",
      "GENDER_Num 0\n",
      "RACE_Num 988\n",
      "DRIVING_EXPERIENCE_Num 0\n",
      "EDUCATION_Num 0\n",
      "INCOME_Num 0\n",
      "VEHICLE_YEAR_Num 0\n",
      "VEHICLE_TYPE_Num 477\n"
     ]
    }
   ],
   "source": [
    "# checking the outliers in dataframe\n",
    "def detect_Outliers(df):\n",
    "\n",
    "    for feature in df.drop(\"OUTCOME\", axis=1).columns:\n",
    "        Q1 = df[feature].quantile(0.25)\n",
    "        Q3 = df[feature].quantile(0.75)\n",
    "        IQR = Q3 - Q1\n",
    "        lower_limit = Q1 - 1.5 * IQR\n",
    "        upper_limit = Q3 + 1.5 * IQR\n",
    "\n",
    "        outliers = df.loc[(df[feature] < lower_limit) | (df[feature] > upper_limit), feature]\n",
    "\n",
    "        print(feature, outliers.shape[0])\n",
    "\n",
    "detect_Outliers(df_int)"
   ]
  },
  {
   "cell_type": "markdown",
   "id": "daccd2fa",
   "metadata": {},
   "source": [
    "### Since DUIS, past accidents, speeding violations, race_num and vehicle_type_num are essential and categorical values, so we cannot remove them "
   ]
  },
  {
   "cell_type": "code",
   "execution_count": 22,
   "id": "1aba572e",
   "metadata": {},
   "outputs": [],
   "source": [
    "df_int_copy=df_int.copy()\n",
    "# df_int contains dataset with outliers and df_int_copy contains dataset without outliers"
   ]
  },
  {
   "cell_type": "code",
   "execution_count": 23,
   "id": "6fde70b3",
   "metadata": {},
   "outputs": [
    {
     "data": {
      "image/png": "[encoded data removed]",
      "text/plain": [
       "<Figure size 1500x1500 with 3 Axes>"
      ]
     },
     "metadata": {},
     "output_type": "display_data"
    }
   ],
   "source": [
    "# let's plot the boxplot for all 6 outliers columns w.r.t target feature\n",
    "plt.figure(figsize=(15,15))\n",
    "\n",
    "plt.subplot(2,2,1)\n",
    "sns.boxplot(y=df_int_copy['CREDIT_SCORE'],data=df_int_copy)\n",
    "plt.title('CREDIT_SCORE')\n",
    "\n",
    "plt.subplot(2,2,2)\n",
    "sns.boxplot(y=df_int_copy['POSTAL_CODE'],data=df_int_copy)\n",
    "plt.title('POSTAL_CODE')\n",
    "\n",
    "plt.subplot(2,2,3)\n",
    "sns.boxplot(y=df_int_copy['ANNUAL_MILEAGE'],data=df_int_copy)\n",
    "plt.title('ANNUAL_MILEAGE')\n",
    "\n",
    "plt.tight_layout()\n",
    "plt.show()"
   ]
  },
  {
   "cell_type": "code",
   "execution_count": 24,
   "id": "7441a64e",
   "metadata": {},
   "outputs": [],
   "source": [
    "# # Compute all the outliers present in copied dataframe\n",
    "\n",
    "# Q1 = df_int_copy.quantile(0.25)   # Calculates the first quartile (25th percentile) of the data\n",
    "# Q3 = df_int_copy.quantile(0.75)   # Calculates the third quartile (75th percentile) of the data\n",
    "# IQR = Q3 - Q1                 # Computes the Interquartile Range (IQR) by subtracting Q1 from Q3"
   ]
  },
  {
   "cell_type": "code",
   "execution_count": 25,
   "id": "15d7a371",
   "metadata": {},
   "outputs": [],
   "source": [
    "# # Outlier removal using IQR method\n",
    "# df_ol = df_int_copy[~((df_int_copy < (Q1 - 1.5*IQR)) | (df_int_copy > (Q3 + 1.5*IQR))).any(axis=1)]\n",
    "\n",
    "# # Assign the DataFrame without outliers to df_copy\n",
    "# df_int_copy = df_ol\n",
    "\n",
    "# # Shape of the copied dataframe without outliers\n",
    "# df_int_copy.shape"
   ]
  },
  {
   "cell_type": "code",
   "execution_count": 26,
   "id": "d748b18b",
   "metadata": {},
   "outputs": [
    {
     "name": "stdout",
     "output_type": "stream",
     "text": [
      "25 percentile= 0.4315093930448983\n",
      "75 percentile= 0.6076065021784294\n",
      "0.17609710913353105\n",
      "0.871752165878726\n",
      "0.16736372934460175\n"
     ]
    },
    {
     "data": {
      "image/png": "[encoded data removed]",
      "text/plain": [
       "<Figure size 1600x800 with 2 Axes>"
      ]
     },
     "metadata": {},
     "output_type": "display_data"
    }
   ],
   "source": [
    "percentile25=df_int_copy['CREDIT_SCORE'].quantile(0.25)\n",
    "percentile75=df_int_copy['CREDIT_SCORE'].quantile(0.75)\n",
    "print('25 percentile=',percentile25)\n",
    "print('75 percentile=',percentile75)\n",
    "IQR=percentile75-percentile25\n",
    "print(IQR)\n",
    "upper_limit=percentile75+1.5*IQR\n",
    "lower_limit=percentile25-1.5*IQR\n",
    "print(upper_limit)\n",
    "print(lower_limit)\n",
    "df_int_copy_cap=df_int_copy.copy()\n",
    "df_int_copy_cap['CREDIT_SCORE']=np.where(\n",
    "    df_int_copy_cap['CREDIT_SCORE']>upper_limit,\n",
    "    upper_limit,\n",
    "    np.where(\n",
    "        df_int_copy_cap['CREDIT_SCORE']<lower_limit,\n",
    "        lower_limit,\n",
    "        df_int_copy_cap['CREDIT_SCORE']\n",
    "    )\n",
    ")\n",
    "plt.figure(figsize=(16,8))\n",
    "plt.subplot(1,2,1)\n",
    "sns.boxplot(df_int_copy['CREDIT_SCORE'])\n",
    "plt.subplot(1,2,2)\n",
    "sns.boxplot(df_int_copy_cap['CREDIT_SCORE'])\n",
    "plt.show()"
   ]
  },
  {
   "cell_type": "code",
   "execution_count": 27,
   "id": "b51d08c3",
   "metadata": {},
   "outputs": [
    {
     "name": "stdout",
     "output_type": "stream",
     "text": [
      "25 percentile= 10238.0\n",
      "75 percentile= 32765.0\n",
      "22527.0\n",
      "66555.5\n",
      "-23552.5\n"
     ]
    },
    {
     "data": {
      "image/png": "[encoded data removed]",
      "text/plain": [
       "<Figure size 1600x800 with 2 Axes>"
      ]
     },
     "metadata": {},
     "output_type": "display_data"
    }
   ],
   "source": [
    "percentile25=df_int_copy['POSTAL_CODE'].quantile(0.25)\n",
    "percentile75=df_int_copy['POSTAL_CODE'].quantile(0.75)\n",
    "print('25 percentile=',percentile25)\n",
    "print('75 percentile=',percentile75)\n",
    "IQR=percentile75-percentile25\n",
    "print(IQR)\n",
    "upper_limit=percentile75+1.5*IQR\n",
    "lower_limit=percentile25-1.5*IQR\n",
    "print(upper_limit)\n",
    "print(lower_limit)\n",
    "df_int_copy_cap=df_int_copy.copy()\n",
    "df_int_copy_cap['POSTAL_CODE']=np.where(\n",
    "    df_int_copy_cap['POSTAL_CODE']>upper_limit,\n",
    "    upper_limit,\n",
    "    np.where(\n",
    "        df_int_copy_cap['POSTAL_CODE']<lower_limit,\n",
    "        lower_limit,\n",
    "        df_int_copy_cap['POSTAL_CODE']\n",
    "    )\n",
    ")\n",
    "plt.figure(figsize=(16,8))\n",
    "plt.subplot(1,2,1)\n",
    "sns.boxplot(df_int_copy['POSTAL_CODE'])\n",
    "plt.subplot(1,2,2)\n",
    "sns.boxplot(df_int_copy_cap['POSTAL_CODE'])\n",
    "plt.show()"
   ]
  },
  {
   "cell_type": "code",
   "execution_count": 28,
   "id": "c4fa2813",
   "metadata": {},
   "outputs": [
    {
     "name": "stdout",
     "output_type": "stream",
     "text": [
      "25 percentile= 10000.0\n",
      "75 percentile= 13000.0\n",
      "3000.0\n",
      "17500.0\n",
      "5500.0\n"
     ]
    },
    {
     "data": {
      "image/png": "[encoded data removed]",
      "text/plain": [
       "<Figure size 1600x800 with 2 Axes>"
      ]
     },
     "metadata": {},
     "output_type": "display_data"
    }
   ],
   "source": [
    "percentile25=df_int_copy['ANNUAL_MILEAGE'].quantile(0.25)\n",
    "percentile75=df_int_copy['ANNUAL_MILEAGE'].quantile(0.75)\n",
    "print('25 percentile=',percentile25)\n",
    "print('75 percentile=',percentile75)\n",
    "IQR=percentile75-percentile25\n",
    "print(IQR)\n",
    "upper_limit=percentile75+1.5*IQR\n",
    "lower_limit=percentile25-1.5*IQR\n",
    "print(upper_limit)\n",
    "print(lower_limit)\n",
    "df_int_copy_cap=df_int_copy.copy()\n",
    "df_int_copy_cap['ANNUAL_MILEAGE']=np.where(\n",
    "    df_int_copy_cap['ANNUAL_MILEAGE']>upper_limit,\n",
    "    upper_limit,\n",
    "    np.where(\n",
    "        df_int_copy_cap['ANNUAL_MILEAGE']<lower_limit,\n",
    "        lower_limit,\n",
    "        df_int_copy_cap['ANNUAL_MILEAGE']\n",
    "    )\n",
    ")\n",
    "plt.figure(figsize=(16,8))\n",
    "plt.subplot(1,2,1)\n",
    "sns.boxplot(df_int_copy['ANNUAL_MILEAGE'])\n",
    "plt.subplot(1,2,2)\n",
    "sns.boxplot(df_int_copy_cap['ANNUAL_MILEAGE'])\n",
    "plt.show()"
   ]
  },
  {
   "cell_type": "code",
   "execution_count": 29,
   "id": "87dc144d",
   "metadata": {},
   "outputs": [
    {
     "data": {
      "text/plain": [
       "(10000, 19)"
      ]
     },
     "execution_count": 29,
     "metadata": {},
     "output_type": "execute_result"
    }
   ],
   "source": [
    "df_int_copy.shape\n",
    "# df_int_copy_cap.shape"
   ]
  },
  {
   "cell_type": "code",
   "execution_count": 30,
   "id": "561bbea6",
   "metadata": {},
   "outputs": [
    {
     "data": {
      "text/plain": [
       "(10000, 19)"
      ]
     },
     "execution_count": 30,
     "metadata": {},
     "output_type": "execute_result"
    }
   ],
   "source": [
    "df_int_copy_cap.shape"
   ]
  },
  {
   "cell_type": "code",
   "execution_count": 31,
   "id": "43875ccd",
   "metadata": {},
   "outputs": [],
   "source": [
    "df_int_copy=df_int_copy_cap"
   ]
  },
  {
   "cell_type": "code",
   "execution_count": 32,
   "id": "cbed3781",
   "metadata": {},
   "outputs": [],
   "source": [
    "# 2 datasets df_int (with outliers) and df_int_copy (without outliers)"
   ]
  },
  {
   "cell_type": "markdown",
   "id": "4e7236e9",
   "metadata": {},
   "source": [
    "# Splitting1\n"
   ]
  },
  {
   "cell_type": "code",
   "execution_count": 33,
   "id": "cb44d04c",
   "metadata": {},
   "outputs": [],
   "source": [
    "# Here I used 'df_copy' which is an copied dataframe without outliers\n",
    "# without outliers\n",
    "# input features\n",
    "X = df_int.drop('OUTCOME',axis=1)\n",
    "\n",
    "# output feature\n",
    "y = df_int['OUTCOME']"
   ]
  },
  {
   "cell_type": "markdown",
   "id": "7c5efe5d",
   "metadata": {},
   "source": [
    "# Splitting2"
   ]
  },
  {
   "cell_type": "code",
   "execution_count": 34,
   "id": "b3606e52",
   "metadata": {},
   "outputs": [],
   "source": [
    "# Here I used 'df_copy' which is an copied dataframe without outliers\n",
    "# without outliers\n",
    "# input features\n",
    "X = df_int_copy.drop('OUTCOME',axis=1)\n",
    "\n",
    "# output feature\n",
    "y = df_int_copy['OUTCOME']"
   ]
  },
  {
   "cell_type": "code",
   "execution_count": 35,
   "id": "b79d8630",
   "metadata": {},
   "outputs": [],
   "source": [
    "from sklearn.model_selection import train_test_split\n",
    "X_train, X_test, y_train, y_test = train_test_split(X, y, test_size=0.25, random_state=42)"
   ]
  },
  {
   "cell_type": "markdown",
   "id": "0ac3a9fd",
   "metadata": {},
   "source": [
    "# scaling"
   ]
  },
  {
   "cell_type": "code",
   "execution_count": 36,
   "id": "2e136715",
   "metadata": {},
   "outputs": [],
   "source": [
    "# scaling or normalize train and test data\n",
    "from sklearn.preprocessing import MinMaxScaler\n",
    "scaler = MinMaxScaler()\n",
    "\n",
    "# X train data\n",
    "X_train = scaler.fit_transform(X_train)\n",
    "\n",
    "# X test data\n",
    "X_test = scaler.transform(X_test)"
   ]
  },
  {
   "cell_type": "markdown",
   "id": "2537d4df",
   "metadata": {},
   "source": [
    "# Model Implementation"
   ]
  },
  {
   "cell_type": "markdown",
   "id": "c4f6a730",
   "metadata": {},
   "source": [
    "# Adaboost Classifier"
   ]
  },
  {
   "cell_type": "code",
   "execution_count": 82,
   "id": "d0d5aa48",
   "metadata": {},
   "outputs": [
    {
     "data": {
      "text/html": [
       "<style>#sk-container-id-4 {color: black;}#sk-container-id-4 pre{padding: 0;}#sk-container-id-4 div.sk-toggleable {background-color: white;}#sk-container-id-4 label.sk-toggleable__label {cursor: pointer;display: block;width: 100%;margin-bottom: 0;padding: 0.3em;box-sizing: border-box;text-align: center;}#sk-container-id-4 label.sk-toggleable__label-arrow:before {content: \"▸\";float: left;margin-right: 0.25em;color: #696969;}#sk-container-id-4 label.sk-toggleable__label-arrow:hover:before {color: black;}#sk-container-id-4 div.sk-estimator:hover label.sk-toggleable__label-arrow:before {color: black;}#sk-container-id-4 div.sk-toggleable__content {max-height: 0;max-width: 0;overflow: hidden;text-align: left;background-color: #f0f8ff;}#sk-container-id-4 div.sk-toggleable__content pre {margin: 0.2em;color: black;border-radius: 0.25em;background-color: #f0f8ff;}#sk-container-id-4 input.sk-toggleable__control:checked~div.sk-toggleable__content {max-height: 200px;max-width: 100%;overflow: auto;}#sk-container-id-4 input.sk-toggleable__control:checked~label.sk-toggleable__label-arrow:before {content: \"▾\";}#sk-container-id-4 div.sk-estimator input.sk-toggleable__control:checked~label.sk-toggleable__label {background-color: #d4ebff;}#sk-container-id-4 div.sk-label input.sk-toggleable__control:checked~label.sk-toggleable__label {background-color: #d4ebff;}#sk-container-id-4 input.sk-hidden--visually {border: 0;clip: rect(1px 1px 1px 1px);clip: rect(1px, 1px, 1px, 1px);height: 1px;margin: -1px;overflow: hidden;padding: 0;position: absolute;width: 1px;}#sk-container-id-4 div.sk-estimator {font-family: monospace;background-color: #f0f8ff;border: 1px dotted black;border-radius: 0.25em;box-sizing: border-box;margin-bottom: 0.5em;}#sk-container-id-4 div.sk-estimator:hover {background-color: #d4ebff;}#sk-container-id-4 div.sk-parallel-item::after {content: \"\";width: 100%;border-bottom: 1px solid gray;flex-grow: 1;}#sk-container-id-4 div.sk-label:hover label.sk-toggleable__label {background-color: #d4ebff;}#sk-container-id-4 div.sk-serial::before {content: \"\";position: absolute;border-left: 1px solid gray;box-sizing: border-box;top: 0;bottom: 0;left: 50%;z-index: 0;}#sk-container-id-4 div.sk-serial {display: flex;flex-direction: column;align-items: center;background-color: white;padding-right: 0.2em;padding-left: 0.2em;position: relative;}#sk-container-id-4 div.sk-item {position: relative;z-index: 1;}#sk-container-id-4 div.sk-parallel {display: flex;align-items: stretch;justify-content: center;background-color: white;position: relative;}#sk-container-id-4 div.sk-item::before, #sk-container-id-4 div.sk-parallel-item::before {content: \"\";position: absolute;border-left: 1px solid gray;box-sizing: border-box;top: 0;bottom: 0;left: 50%;z-index: -1;}#sk-container-id-4 div.sk-parallel-item {display: flex;flex-direction: column;z-index: 1;position: relative;background-color: white;}#sk-container-id-4 div.sk-parallel-item:first-child::after {align-self: flex-end;width: 50%;}#sk-container-id-4 div.sk-parallel-item:last-child::after {align-self: flex-start;width: 50%;}#sk-container-id-4 div.sk-parallel-item:only-child::after {width: 0;}#sk-container-id-4 div.sk-dashed-wrapped {border: 1px dashed gray;margin: 0 0.4em 0.5em 0.4em;box-sizing: border-box;padding-bottom: 0.4em;background-color: white;}#sk-container-id-4 div.sk-label label {font-family: monospace;font-weight: bold;display: inline-block;line-height: 1.2em;}#sk-container-id-4 div.sk-label-container {text-align: center;}#sk-container-id-4 div.sk-container {/* jupyter's `normalize.less` sets `[hidden] { display: none; }` but bootstrap.min.css set `[hidden] { display: none !important; }` so we also need the `!important` here to be able to override the default hidden behavior on the sphinx rendered scikit-learn.org. See: https://github.com/scikit-learn/scikit-learn/issues/21755 */display: inline-block !important;position: relative;}#sk-container-id-4 div.sk-text-repr-fallback {display: none;}</style><div id=\"sk-container-id-4\" class=\"sk-top-container\"><div class=\"sk-text-repr-fallback\"><pre>AdaBoostClassifier(n_estimators=100, random_state=1)</pre><b>In a Jupyter environment, please rerun this cell to show the HTML representation or trust the notebook. <br />On GitHub, the HTML representation is unable to render, please try loading this page with nbviewer.org.</b></div><div class=\"sk-container\" hidden><div class=\"sk-item\"><div class=\"sk-estimator sk-toggleable\"><input class=\"sk-toggleable__control sk-hidden--visually\" id=\"sk-estimator-id-4\" type=\"checkbox\" checked><label for=\"sk-estimator-id-4\" class=\"sk-toggleable__label sk-toggleable__label-arrow\">AdaBoostClassifier</label><div class=\"sk-toggleable__content\"><pre>AdaBoostClassifier(n_estimators=100, random_state=1)</pre></div></div></div></div></div>"
      ],
      "text/plain": [
       "AdaBoostClassifier(n_estimators=100, random_state=1)"
      ]
     },
     "execution_count": 82,
     "metadata": {},
     "output_type": "execute_result"
    }
   ],
   "source": [
    "from sklearn.ensemble import AdaBoostClassifier\n",
    "Ada = AdaBoostClassifier(n_estimators=100, random_state=1)\n",
    "Ada.fit(X_train, y_train)"
   ]
  },
  {
   "cell_type": "code",
   "execution_count": 83,
   "id": "8fc1bdae",
   "metadata": {
    "scrolled": true
   },
   "outputs": [
    {
     "name": "stdout",
     "output_type": "stream",
     "text": [
      "Accuracy:0.8404\n",
      "f1 Score: 0.8078463788144421\n",
      "Recall: 0.7990660837439711\n",
      "Precision: 0.8194451093217932\n",
      "Jaccard Score: 0.6850526046374854\n"
     ]
    }
   ],
   "source": [
    "y_pred=Ada.predict(X_test)\n",
    "from sklearn.metrics import accuracy_score, f1_score,precision_score,recall_score,jaccard_score\n",
    "\n",
    "acc=accuracy_score(y_test, y_pred, normalize=True, sample_weight=None)\n",
    "f1 = f1_score(y_test, y_pred, labels=None, pos_label=1, average='macro', sample_weight=None, zero_division='warn')\n",
    "re =recall_score(y_test, y_pred,labels=None, pos_label=1, average='macro', sample_weight=None, zero_division='warn')\n",
    "pre= precision_score(y_test,y_pred, labels=None, pos_label=1, average='macro', sample_weight=None, zero_division='warn')\n",
    "js = jaccard_score(y_test, y_pred,  labels=None, pos_label=1, average='macro', sample_weight=None, zero_division='warn')\n",
    "print(f'Accuracy:{acc}')\n",
    "print(f'f1 Score: {f1}')\n",
    "print(f'Recall: {re}')\n",
    "print(f'Precision: {pre}')\n",
    "print(f'Jaccard Score: {js}')"
   ]
  },
  {
   "cell_type": "code",
   "execution_count": 84,
   "id": "28afd65e",
   "metadata": {
    "scrolled": true
   },
   "outputs": [
    {
     "name": "stdout",
     "output_type": "stream",
     "text": [
      "Accuracy:0.8444\n",
      "f1 Score: 0.8120638940245208\n",
      "Recall: 0.8023213081251386\n",
      "Precision: 0.8252472669647477\n",
      "Jaccard Score: 0.6908737672865947\n"
     ]
    }
   ],
   "source": [
    "# {'algorithm': 'SAMME', 'learning_rate': 0.8, 'n_estimators': 100, 'random_state': 0}\n",
    "Ada = AdaBoostClassifier(n_estimators=100, random_state=1,learning_rate=0.9)\n",
    "Ada.fit(X_train, y_train)\n",
    "\n",
    "\n",
    "y_pred=Ada.predict(X_test)\n",
    "from sklearn.metrics import accuracy_score, f1_score,precision_score,recall_score,jaccard_score\n",
    "\n",
    "acc=accuracy_score(y_test, y_pred, normalize=True, sample_weight=None)\n",
    "f1 = f1_score(y_test, y_pred, labels=None, pos_label=1, average='macro', sample_weight=None, zero_division='warn')\n",
    "re =recall_score(y_test, y_pred,labels=None, pos_label=1, average='macro', sample_weight=None, zero_division='warn')\n",
    "pre= precision_score(y_test,y_pred, labels=None, pos_label=1, average='macro', sample_weight=None, zero_division='warn')\n",
    "js = jaccard_score(y_test, y_pred,  labels=None, pos_label=1, average='macro', sample_weight=None, zero_division='warn')\n",
    "print(f'Accuracy:{acc}')\n",
    "print(f'f1 Score: {f1}')\n",
    "print(f'Recall: {re}')\n",
    "print(f'Precision: {pre}')\n",
    "print(f'Jaccard Score: {js}')"
   ]
  },
  {
   "cell_type": "code",
   "execution_count": 85,
   "id": "e92431e0",
   "metadata": {},
   "outputs": [
    {
     "name": "stdout",
     "output_type": "stream",
     "text": [
      "[[1574  149]\n",
      " [ 240  537]]\n"
     ]
    }
   ],
   "source": [
    "from sklearn.metrics import confusion_matrix\n",
    "confusion=confusion_matrix(y_test, y_pred)\n",
    "print(confusion)"
   ]
  },
  {
   "cell_type": "code",
   "execution_count": 86,
   "id": "d0d32e60",
   "metadata": {},
   "outputs": [
    {
     "data": {
      "image/png": "[encoded data removed]",
      "text/plain": [
       "<Figure size 640x480 with 2 Axes>"
      ]
     },
     "metadata": {},
     "output_type": "display_data"
    }
   ],
   "source": [
    "from sklearn.metrics import ConfusionMatrixDisplay\n",
    "cf_matrix = confusion_matrix(y_test, y_pred)\n",
    "ConfusionMatrixDisplay.from_predictions(y_test, y_pred,cmap=plt.cm.Blues)\n",
    "plt.show()"
   ]
  },
  {
   "cell_type": "code",
   "execution_count": 41,
   "id": "2811c5be",
   "metadata": {},
   "outputs": [
    {
     "data": {
      "text/plain": [
       "'\\nfrom sklearn.tree import DecisionTreeClassifier\\nfrom sklearn.model_selection import GridSearchCV,RandomizedSearchCV\\nparam_grid = {\\n    \\'n_estimators\\': [50, 100, 150],\\n    \\'learning_rate\\': [0.01, 0.1, 1],\\n    \\'base_estimator\\': [DecisionTreeClassifier(max_depth=1), DecisionTreeClassifier(max_depth=2)],\\n}\\ngrid_search = GridSearchCV(Ada, param_grid, cv=5, scoring=\\'accuracy\\')\\ngrid_search.fit(X_n_train, y_train)\\nprint(\"Best parameters:\", grid_search.best_params_)\\n'"
      ]
     },
     "execution_count": 41,
     "metadata": {},
     "output_type": "execute_result"
    }
   ],
   "source": [
    "#Hyperparameter Tuning\n",
    "'''\n",
    "from sklearn.tree import DecisionTreeClassifier\n",
    "from sklearn.model_selection import GridSearchCV,RandomizedSearchCV\n",
    "param_grid = {\n",
    "    'n_estimators': [50, 100, 150],\n",
    "    'learning_rate': [0.01, 0.1, 1],\n",
    "    'base_estimator': [DecisionTreeClassifier(max_depth=1), DecisionTreeClassifier(max_depth=2)],\n",
    "}\n",
    "grid_search = GridSearchCV(Ada, param_grid, cv=5, scoring='accuracy')\n",
    "grid_search.fit(X_n_train, y_train)\n",
    "print(\"Best parameters:\", grid_search.best_params_)\n",
    "'''\n",
    "# Best parameters: {'base_estimator': DecisionTreeClassifier(max_depth=2), 'learning_rate': 0.1, 'n_estimators': 100}"
   ]
  },
  {
   "cell_type": "code",
   "execution_count": 42,
   "id": "8979b562",
   "metadata": {},
   "outputs": [],
   "source": [
    "# DTR=DecisionTreeClassifier(max_depth=2)\n",
    "# model_grid =  AdaBoostClassifier(n_estimators=150,base_estimator=DTR,learning_rate=1) \n",
    "# model_grid.fit(X_n_train, y_train) \n",
    "# y_pred_grid = model_grid.predict(X_n_test)"
   ]
  },
  {
   "cell_type": "code",
   "execution_count": 43,
   "id": "e31ac508",
   "metadata": {},
   "outputs": [
    {
     "data": {
      "text/plain": [
       "\"\\nacc=accuracy_score(y_test, y_pred, normalize=True, sample_weight=None)\\nf1 = f1_score(y_test, y_pred, labels=None, pos_label=1, average='macro', sample_weight=None, zero_division='warn')\\nre =recall_score(y_test, y_pred,labels=None, pos_label=1, average='macro', sample_weight=None, zero_division='warn')\\npre= precision_score(y_test,y_pred, labels=None, pos_label=1, average='macro', sample_weight=None, zero_division='warn')\\njs = jaccard_score(y_test, y_pred,  labels=None, pos_label=1, average='macro', sample_weight=None, zero_division='warn')\\nprint(f'Accuracy:{acc}')\\nprint(f'f1 Score: {f1}')\\nprint(f'Recall: {re}')\\nprint(f'Precision: {pre}')\\nprint(f'Jaccard Score: {js}')\\n\""
      ]
     },
     "execution_count": 43,
     "metadata": {},
     "output_type": "execute_result"
    }
   ],
   "source": [
    "'''\n",
    "acc=accuracy_score(y_test, y_pred, normalize=True, sample_weight=None)\n",
    "f1 = f1_score(y_test, y_pred, labels=None, pos_label=1, average='macro', sample_weight=None, zero_division='warn')\n",
    "re =recall_score(y_test, y_pred,labels=None, pos_label=1, average='macro', sample_weight=None, zero_division='warn')\n",
    "pre= precision_score(y_test,y_pred, labels=None, pos_label=1, average='macro', sample_weight=None, zero_division='warn')\n",
    "js = jaccard_score(y_test, y_pred,  labels=None, pos_label=1, average='macro', sample_weight=None, zero_division='warn')\n",
    "print(f'Accuracy:{acc}')\n",
    "print(f'f1 Score: {f1}')\n",
    "print(f'Recall: {re}')\n",
    "print(f'Precision: {pre}')\n",
    "print(f'Jaccard Score: {js}')\n",
    "'''\n",
    "\n",
    "# Accuracy:0.8375\n",
    "# f1 Score: 0.8043742519196153\n",
    "# Recall: 0.7933326861671699\n",
    "# Precision: 0.820458952811894\n",
    "# Jaccard Score: 0.6803816850721698"
   ]
  },
  {
   "cell_type": "markdown",
   "id": "a1b87b9a",
   "metadata": {},
   "source": [
    "# KNN 1"
   ]
  },
  {
   "cell_type": "code",
   "execution_count": 87,
   "id": "3626c697",
   "metadata": {},
   "outputs": [
    {
     "data": {
      "text/plain": [
       "86.60254037844386"
      ]
     },
     "execution_count": 87,
     "metadata": {},
     "output_type": "execute_result"
    }
   ],
   "source": [
    "from sklearn.neighbors import KNeighborsClassifier\n",
    "from sklearn.model_selection import train_test_split, GridSearchCV\n",
    "from sklearn.metrics import accuracy_score, precision_score, recall_score, f1_score,jaccard_score\n",
    "k= np.sqrt(len(X_train))\n",
    "k"
   ]
  },
  {
   "cell_type": "code",
   "execution_count": 88,
   "id": "80a0feea",
   "metadata": {},
   "outputs": [
    {
     "data": {
      "text/html": [
       "<style>#sk-container-id-5 {color: black;}#sk-container-id-5 pre{padding: 0;}#sk-container-id-5 div.sk-toggleable {background-color: white;}#sk-container-id-5 label.sk-toggleable__label {cursor: pointer;display: block;width: 100%;margin-bottom: 0;padding: 0.3em;box-sizing: border-box;text-align: center;}#sk-container-id-5 label.sk-toggleable__label-arrow:before {content: \"▸\";float: left;margin-right: 0.25em;color: #696969;}#sk-container-id-5 label.sk-toggleable__label-arrow:hover:before {color: black;}#sk-container-id-5 div.sk-estimator:hover label.sk-toggleable__label-arrow:before {color: black;}#sk-container-id-5 div.sk-toggleable__content {max-height: 0;max-width: 0;overflow: hidden;text-align: left;background-color: #f0f8ff;}#sk-container-id-5 div.sk-toggleable__content pre {margin: 0.2em;color: black;border-radius: 0.25em;background-color: #f0f8ff;}#sk-container-id-5 input.sk-toggleable__control:checked~div.sk-toggleable__content {max-height: 200px;max-width: 100%;overflow: auto;}#sk-container-id-5 input.sk-toggleable__control:checked~label.sk-toggleable__label-arrow:before {content: \"▾\";}#sk-container-id-5 div.sk-estimator input.sk-toggleable__control:checked~label.sk-toggleable__label {background-color: #d4ebff;}#sk-container-id-5 div.sk-label input.sk-toggleable__control:checked~label.sk-toggleable__label {background-color: #d4ebff;}#sk-container-id-5 input.sk-hidden--visually {border: 0;clip: rect(1px 1px 1px 1px);clip: rect(1px, 1px, 1px, 1px);height: 1px;margin: -1px;overflow: hidden;padding: 0;position: absolute;width: 1px;}#sk-container-id-5 div.sk-estimator {font-family: monospace;background-color: #f0f8ff;border: 1px dotted black;border-radius: 0.25em;box-sizing: border-box;margin-bottom: 0.5em;}#sk-container-id-5 div.sk-estimator:hover {background-color: #d4ebff;}#sk-container-id-5 div.sk-parallel-item::after {content: \"\";width: 100%;border-bottom: 1px solid gray;flex-grow: 1;}#sk-container-id-5 div.sk-label:hover label.sk-toggleable__label {background-color: #d4ebff;}#sk-container-id-5 div.sk-serial::before {content: \"\";position: absolute;border-left: 1px solid gray;box-sizing: border-box;top: 0;bottom: 0;left: 50%;z-index: 0;}#sk-container-id-5 div.sk-serial {display: flex;flex-direction: column;align-items: center;background-color: white;padding-right: 0.2em;padding-left: 0.2em;position: relative;}#sk-container-id-5 div.sk-item {position: relative;z-index: 1;}#sk-container-id-5 div.sk-parallel {display: flex;align-items: stretch;justify-content: center;background-color: white;position: relative;}#sk-container-id-5 div.sk-item::before, #sk-container-id-5 div.sk-parallel-item::before {content: \"\";position: absolute;border-left: 1px solid gray;box-sizing: border-box;top: 0;bottom: 0;left: 50%;z-index: -1;}#sk-container-id-5 div.sk-parallel-item {display: flex;flex-direction: column;z-index: 1;position: relative;background-color: white;}#sk-container-id-5 div.sk-parallel-item:first-child::after {align-self: flex-end;width: 50%;}#sk-container-id-5 div.sk-parallel-item:last-child::after {align-self: flex-start;width: 50%;}#sk-container-id-5 div.sk-parallel-item:only-child::after {width: 0;}#sk-container-id-5 div.sk-dashed-wrapped {border: 1px dashed gray;margin: 0 0.4em 0.5em 0.4em;box-sizing: border-box;padding-bottom: 0.4em;background-color: white;}#sk-container-id-5 div.sk-label label {font-family: monospace;font-weight: bold;display: inline-block;line-height: 1.2em;}#sk-container-id-5 div.sk-label-container {text-align: center;}#sk-container-id-5 div.sk-container {/* jupyter's `normalize.less` sets `[hidden] { display: none; }` but bootstrap.min.css set `[hidden] { display: none !important; }` so we also need the `!important` here to be able to override the default hidden behavior on the sphinx rendered scikit-learn.org. See: https://github.com/scikit-learn/scikit-learn/issues/21755 */display: inline-block !important;position: relative;}#sk-container-id-5 div.sk-text-repr-fallback {display: none;}</style><div id=\"sk-container-id-5\" class=\"sk-top-container\"><div class=\"sk-text-repr-fallback\"><pre>KNeighborsClassifier(n_neighbors=87)</pre><b>In a Jupyter environment, please rerun this cell to show the HTML representation or trust the notebook. <br />On GitHub, the HTML representation is unable to render, please try loading this page with nbviewer.org.</b></div><div class=\"sk-container\" hidden><div class=\"sk-item\"><div class=\"sk-estimator sk-toggleable\"><input class=\"sk-toggleable__control sk-hidden--visually\" id=\"sk-estimator-id-5\" type=\"checkbox\" checked><label for=\"sk-estimator-id-5\" class=\"sk-toggleable__label sk-toggleable__label-arrow\">KNeighborsClassifier</label><div class=\"sk-toggleable__content\"><pre>KNeighborsClassifier(n_neighbors=87)</pre></div></div></div></div></div>"
      ],
      "text/plain": [
       "KNeighborsClassifier(n_neighbors=87)"
      ]
     },
     "execution_count": 88,
     "metadata": {},
     "output_type": "execute_result"
    }
   ],
   "source": [
    "k=87\n",
    "knnmodel=KNeighborsClassifier(n_neighbors=k)\n",
    "knnmodel.fit(X_train,y_train)"
   ]
  },
  {
   "cell_type": "code",
   "execution_count": 89,
   "id": "52b93c57",
   "metadata": {},
   "outputs": [
    {
     "name": "stdout",
     "output_type": "stream",
     "text": [
      "Accuracy:0.8084\n",
      "f1 Score: 0.763935912789351\n",
      "Recall: 0.7518257416690383\n",
      "Precision: 0.7837958644932977\n",
      "Jaccard Score: 0.6292319196966799\n"
     ]
    }
   ],
   "source": [
    "y_pred=knnmodel.predict(X_test)\n",
    "\n",
    "acc=accuracy_score(y_test, y_pred, normalize=True, sample_weight=None)\n",
    "f1 = f1_score(y_test, y_pred, labels=None, pos_label=1, average='macro', sample_weight=None, zero_division='warn')\n",
    "re =recall_score(y_test, y_pred,labels=None, pos_label=1, average='macro', sample_weight=None, zero_division='warn')\n",
    "pre= precision_score(y_test,y_pred, labels=None, pos_label=1, average='macro', sample_weight=None, zero_division='warn')\n",
    "js = jaccard_score(y_test, y_pred,  labels=None, pos_label=1, average='macro', sample_weight=None, zero_division='warn')\n",
    "print(f'Accuracy:{acc}')\n",
    "print(f'f1 Score: {f1}')\n",
    "print(f'Recall: {re}')\n",
    "print(f'Precision: {pre}')\n",
    "print(f'Jaccard Score: {js}')"
   ]
  },
  {
   "cell_type": "code",
   "execution_count": 90,
   "id": "922b2422",
   "metadata": {},
   "outputs": [
    {
     "name": "stdout",
     "output_type": "stream",
     "text": [
      "Accuracy:0.8288\n",
      "f1 Score: 0.7907558680267925\n",
      "Recall: 0.7789913286140796\n",
      "Precision: 0.8084652859848156\n",
      "Jaccard Score: 0.6629788936896215\n"
     ]
    }
   ],
   "source": [
    "# 'metric': 'manhattan', 'n_neighbors': 5\n",
    "knnmodel=KNeighborsClassifier(metric='manhattan', n_neighbors=20)\n",
    "knnmodel.fit(X_train,y_train)\n",
    "\n",
    "y_pred=knnmodel.predict(X_test)\n",
    "\n",
    "acc=accuracy_score(y_test, y_pred, normalize=True, sample_weight=None)\n",
    "f1 = f1_score(y_test, y_pred, labels=None, pos_label=1, average='macro', sample_weight=None, zero_division='warn')\n",
    "re =recall_score(y_test, y_pred,labels=None, pos_label=1, average='macro', sample_weight=None, zero_division='warn')\n",
    "pre= precision_score(y_test,y_pred, labels=None, pos_label=1, average='macro', sample_weight=None, zero_division='warn')\n",
    "js = jaccard_score(y_test, y_pred,  labels=None, pos_label=1, average='macro', sample_weight=None, zero_division='warn')\n",
    "print(f'Accuracy:{acc}')\n",
    "print(f'f1 Score: {f1}')\n",
    "print(f'Recall: {re}')\n",
    "print(f'Precision: {pre}')\n",
    "print(f'Jaccard Score: {js}')"
   ]
  },
  {
   "cell_type": "code",
   "execution_count": 91,
   "id": "6a8a2d13",
   "metadata": {},
   "outputs": [
    {
     "name": "stdout",
     "output_type": "stream",
     "text": [
      "[[1569  154]\n",
      " [ 274  503]]\n"
     ]
    }
   ],
   "source": [
    "from sklearn.metrics import confusion_matrix\n",
    "confusion=confusion_matrix(y_test, y_pred)\n",
    "print(confusion)"
   ]
  },
  {
   "cell_type": "code",
   "execution_count": 92,
   "id": "2a52ee76",
   "metadata": {},
   "outputs": [
    {
     "data": {
      "image/png": "[encoded data removed]",
      "text/plain": [
       "<Figure size 640x480 with 2 Axes>"
      ]
     },
     "metadata": {},
     "output_type": "display_data"
    }
   ],
   "source": [
    "from sklearn.metrics import ConfusionMatrixDisplay\n",
    "cf_matrix = confusion_matrix(y_test, y_pred)\n",
    "ConfusionMatrixDisplay.from_predictions(y_test, y_pred,cmap=plt.cm.Blues)\n",
    "plt.show()"
   ]
  },
  {
   "cell_type": "markdown",
   "id": "365ce89d",
   "metadata": {},
   "source": [
    "# Naive Bayes Classification 1"
   ]
  },
  {
   "cell_type": "code",
   "execution_count": 93,
   "id": "fe22d7c5",
   "metadata": {},
   "outputs": [
    {
     "name": "stdout",
     "output_type": "stream",
     "text": [
      "Accuracy:0.7748\n",
      "f1 Score: 0.7577632364965697\n",
      "Recall: 0.7871588942395675\n",
      "Precision: 0.7518605870020965\n",
      "Jaccard Score: 0.6143162909286097\n"
     ]
    }
   ],
   "source": [
    "from sklearn.naive_bayes import GaussianNB\n",
    "from sklearn.model_selection import train_test_split\n",
    "from sklearn.metrics import accuracy_score, precision_score, recall_score, f1_score\n",
    "\n",
    "# Create the Naive Bayes classifier\n",
    "clf = GaussianNB()\n",
    "\n",
    "# Train the model\n",
    "clf.fit(X_train, y_train)\n",
    "\n",
    "# Make predictions on the test set\n",
    "y_pred = clf.predict(X_test)\n",
    "\n",
    "\n",
    "acc=accuracy_score(y_test, y_pred, normalize=True, sample_weight=None)\n",
    "f1 = f1_score(y_test, y_pred, labels=None, pos_label=1, average='macro', sample_weight=None, zero_division='warn')\n",
    "re =recall_score(y_test, y_pred,labels=None, pos_label=1, average='macro', sample_weight=None, zero_division='warn')\n",
    "pre= precision_score(y_test,y_pred, labels=None, pos_label=1, average='macro', sample_weight=None, zero_division='warn')\n",
    "js = jaccard_score(y_test, y_pred,  labels=None, pos_label=1, average='macro', sample_weight=None, zero_division='warn')\n",
    "print(f'Accuracy:{acc}')\n",
    "print(f'f1 Score: {f1}')\n",
    "print(f'Recall: {re}')\n",
    "print(f'Precision: {pre}')\n",
    "print(f'Jaccard Score: {js}')"
   ]
  },
  {
   "cell_type": "code",
   "execution_count": 94,
   "id": "b9072340",
   "metadata": {},
   "outputs": [
    {
     "name": "stdout",
     "output_type": "stream",
     "text": [
      "[[1300  423]\n",
      " [ 140  637]]\n"
     ]
    }
   ],
   "source": [
    "from sklearn.metrics import confusion_matrix\n",
    "confusion=confusion_matrix(y_test, y_pred)\n",
    "print(confusion)"
   ]
  },
  {
   "cell_type": "code",
   "execution_count": 51,
   "id": "87d6b84b",
   "metadata": {},
   "outputs": [
    {
     "name": "stdout",
     "output_type": "stream",
     "text": [
      "\n",
      "Best hyperparameters:  {'var_smoothing': 1e-09}\n"
     ]
    }
   ],
   "source": [
    "from sklearn.model_selection import GridSearchCV\n",
    "\n",
    "# Hyperparameter grid for tuning \n",
    "param_grid = {\n",
    "    'var_smoothing': [1e-9, 1e-8, 1e-7, 1e-6, 1e-5]\n",
    "}\n",
    "\n",
    "# Create a GridSearchCV object\n",
    "clf = GridSearchCV(clf, param_grid=param_grid, cv=5)\n",
    "\n",
    "# Train the model with hyperparameter tuning\n",
    "clf.fit(X_train, y_train)\n",
    "\n",
    "# Access the best model and its parameters\n",
    "best_model = clf.best_estimator_\n",
    "best_params = clf.best_params_\n",
    "\n",
    "# Make predictions using the best model\n",
    "y_pred = best_model.predict(X_test)\n",
    "\n",
    "print(\"\\nBest hyperparameters: \", best_params)\n"
   ]
  },
  {
   "cell_type": "code",
   "execution_count": 52,
   "id": "df76b886",
   "metadata": {},
   "outputs": [],
   "source": [
    "# Best hyperparameters:  {'var_smoothing': 1e-09}"
   ]
  },
  {
   "cell_type": "code",
   "execution_count": 95,
   "id": "c40ea791",
   "metadata": {},
   "outputs": [
    {
     "name": "stdout",
     "output_type": "stream",
     "text": [
      "\n",
      "After hyperparameter tuning:\n",
      "\n",
      "Accuracy with best hyperparameters: 0.7748\n",
      "Precision with best hyperparameters: 0.8089676519916142\n",
      "Recall with best hyperparameters: 0.7748\n",
      "F1-score with best hyperparameters: 0.7820721026719016\n"
     ]
    }
   ],
   "source": [
    "# Make predictions with the best model\n",
    "\n",
    "model = GaussianNB(var_smoothing=1e-09)  \n",
    "model.fit(X_train, y_train)\n",
    "\n",
    "# Make predictions on the testing set\n",
    "y_pred_best = model.predict(X_test)\n",
    "\n",
    "\n",
    "# Evaluate performance with the best model\n",
    "accuracy_best = accuracy_score(y_test, y_pred_best)\n",
    "precision_best = precision_score(y_test, y_pred_best, average='weighted')\n",
    "recall_best = recall_score(y_test, y_pred_best, average='weighted')\n",
    "f1_best = f1_score(y_test, y_pred_best, average='weighted')\n",
    "print(\"\\nAfter hyperparameter tuning:\")\n",
    "print(\"\\nAccuracy with best hyperparameters:\", accuracy_best)\n",
    "print(\"Precision with best hyperparameters:\", precision_best)\n",
    "print(\"Recall with best hyperparameters:\", recall_best)\n",
    "print(\"F1-score with best hyperparameters:\", f1_best)"
   ]
  },
  {
   "cell_type": "code",
   "execution_count": 96,
   "id": "41979001",
   "metadata": {},
   "outputs": [
    {
     "name": "stdout",
     "output_type": "stream",
     "text": [
      "[[1300  423]\n",
      " [ 140  637]]\n"
     ]
    }
   ],
   "source": [
    "from sklearn.metrics import confusion_matrix\n",
    "confusion=confusion_matrix(y_test, y_pred)\n",
    "print(confusion)"
   ]
  },
  {
   "cell_type": "code",
   "execution_count": 97,
   "id": "7d9e12f4",
   "metadata": {},
   "outputs": [
    {
     "data": {
      "image/png": "[encoded data removed]",
      "text/plain": [
       "<Figure size 640x480 with 2 Axes>"
      ]
     },
     "metadata": {},
     "output_type": "display_data"
    }
   ],
   "source": [
    "from sklearn.metrics import ConfusionMatrixDisplay\n",
    "cf_matrix = confusion_matrix(y_test, y_pred)\n",
    "ConfusionMatrixDisplay.from_predictions(y_test, y_pred,cmap=plt.cm.Blues)\n",
    "plt.show()"
   ]
  },
  {
   "cell_type": "markdown",
   "id": "86eff0db",
   "metadata": {},
   "source": [
    "# SVC 1\n"
   ]
  },
  {
   "cell_type": "code",
   "execution_count": 98,
   "id": "442c986e",
   "metadata": {},
   "outputs": [
    {
     "name": "stdout",
     "output_type": "stream",
     "text": [
      "Accuracy:0.84\n",
      "f1 Score: 0.8086437896490068\n",
      "Recall: 0.8016023651543094\n",
      "Precision: 0.8174395960939607\n",
      "Jaccard Score: 0.6858861044677828\n"
     ]
    }
   ],
   "source": [
    "from sklearn.svm import SVC\n",
    "from sklearn.model_selection import train_test_split, GridSearchCV\n",
    "from sklearn.metrics import accuracy_score, precision_score, recall_score, f1_score\n",
    "\n",
    "\n",
    "# Create an SVC classifier with initial hyperparameters\n",
    "svc = SVC(kernel='rbf', C=10) \n",
    "\n",
    "# Train the SVC model\n",
    "svc.fit(X_train, y_train)\n",
    "\n",
    "# Make predictions on the test set\n",
    "y_pred = svc.predict(X_test)\n",
    "\n",
    "# Evaluate model performance\n",
    "acc=accuracy_score(y_test, y_pred, normalize=True, sample_weight=None)\n",
    "f1 = f1_score(y_test, y_pred, labels=None, pos_label=1, average='macro', sample_weight=None, zero_division='warn')\n",
    "re =recall_score(y_test, y_pred,labels=None, pos_label=1, average='macro', sample_weight=None, zero_division='warn')\n",
    "pre= precision_score(y_test,y_pred, labels=None, pos_label=1, average='macro', sample_weight=None, zero_division='warn')\n",
    "js = jaccard_score(y_test, y_pred,  labels=None, pos_label=1, average='macro', sample_weight=None, zero_division='warn')\n",
    "print(f'Accuracy:{acc}')\n",
    "print(f'f1 Score: {f1}')\n",
    "print(f'Recall: {re}')\n",
    "print(f'Precision: {pre}')\n",
    "print(f'Jaccard Score: {js}')"
   ]
  },
  {
   "cell_type": "code",
   "execution_count": 99,
   "id": "7b377719",
   "metadata": {
    "scrolled": true
   },
   "outputs": [
    {
     "name": "stdout",
     "output_type": "stream",
     "text": [
      "[[1556  167]\n",
      " [ 233  544]]\n"
     ]
    }
   ],
   "source": [
    "from sklearn.metrics import confusion_matrix\n",
    "confusion=confusion_matrix(y_test, y_pred)\n",
    "print(confusion)"
   ]
  },
  {
   "cell_type": "code",
   "execution_count": 100,
   "id": "56e14dad",
   "metadata": {},
   "outputs": [
    {
     "data": {
      "image/png": "[encoded data removed]",
      "text/plain": [
       "<Figure size 640x480 with 2 Axes>"
      ]
     },
     "metadata": {},
     "output_type": "display_data"
    }
   ],
   "source": [
    "from sklearn.metrics import ConfusionMatrixDisplay\n",
    "cf_matrix = confusion_matrix(y_test, y_pred)\n",
    "ConfusionMatrixDisplay.from_predictions(y_test, y_pred,cmap=plt.cm.Blues)\n",
    "plt.show()"
   ]
  },
  {
   "cell_type": "code",
   "execution_count": 56,
   "id": "8bfce5d6",
   "metadata": {},
   "outputs": [
    {
     "name": "stdout",
     "output_type": "stream",
     "text": [
      "Best parameters: {'C': 1, 'gamma': 0.1}\n",
      "\n",
      "Accuracy with best hyperparameters: 0.7748\n",
      "Precision with best hyperparameters: 0.8089676519916142\n",
      "Recall with best hyperparameters: 0.7748\n",
      "F1-score with best hyperparameters: 0.7820721026719016\n"
     ]
    },
    {
     "data": {
      "text/plain": [
       "Ellipsis"
      ]
     },
     "execution_count": 56,
     "metadata": {},
     "output_type": "execute_result"
    }
   ],
   "source": [
    "param_grid = {'C': [0.01, 0.1, 1, 10, 100], 'gamma': [0.01, 0.1, 1, 10, 100]}\n",
    "\n",
    "grid_search = GridSearchCV(svc, param_grid, cv=5, scoring='accuracy')  # Adjust 'scoring' based on your metric\n",
    "grid_search.fit(X_train, y_train)\n",
    "\n",
    "best_params = grid_search.best_params_\n",
    "best_model = grid_search.best_estimator_\n",
    "\n",
    "print(f'Best parameters: {best_params}')\n",
    "\n",
    "# Make predictions with the best model\n",
    "y_pred = best_model.predict(X_test)\n",
    "\n",
    "# Evaluate performance using your metrics\n",
    "\n",
    "accuracy_best = accuracy_score(y_test, y_pred_best)\n",
    "precision_best = precision_score(y_test, y_pred_best, average='weighted')\n",
    "recall_best = recall_score(y_test, y_pred_best, average='weighted')\n",
    "f1_best = f1_score(y_test, y_pred_best, average='weighted')\n",
    "\n",
    "print(\"\\nAccuracy with best hyperparameters:\", accuracy_best)\n",
    "print(\"Precision with best hyperparameters:\", precision_best)\n",
    "print(\"Recall with best hyperparameters:\", recall_best)\n",
    "print(\"F1-score with best hyperparameters:\", f1_best)\n",
    "...\n"
   ]
  },
  {
   "cell_type": "code",
   "execution_count": 57,
   "id": "0279e962",
   "metadata": {},
   "outputs": [
    {
     "data": {
      "text/plain": [
       "'\\nparam_grid = {\\'C\\': np.logspace(-4, 4, 5), \\'gamma\\': np.logspace(-3, 1, 5)}\\n\\n# svc_cv = SVC()  # Use the same kernel for grid search\\ngrid_search = GridSearchCV(svc, param_grid, scoring=\\'accuracy\\', cv=5)\\ngrid_search.fit(X_train, y_train)\\n\\nbest_model = grid_search.best_estimator_\\nbest_params = grid_search.best_params_\\n\\nprint(\"\\nBest hyperparameters:\", best_params)\\n\\n'"
      ]
     },
     "execution_count": 57,
     "metadata": {},
     "output_type": "execute_result"
    }
   ],
   "source": [
    "# Hyperparameter tuning with GridSearchCV \n",
    "'''\n",
    "param_grid = {'C': np.logspace(-4, 4, 5), 'gamma': np.logspace(-3, 1, 5)}\n",
    "\n",
    "# svc_cv = SVC()  # Use the same kernel for grid search\n",
    "grid_search = GridSearchCV(svc, param_grid, scoring='accuracy', cv=5)\n",
    "grid_search.fit(X_train, y_train)\n",
    "\n",
    "best_model = grid_search.best_estimator_\n",
    "best_params = grid_search.best_params_\n",
    "\n",
    "print(\"\\nBest hyperparameters:\", best_params)\n",
    "\n",
    "'''"
   ]
  },
  {
   "cell_type": "code",
   "execution_count": 58,
   "id": "66b28864",
   "metadata": {},
   "outputs": [
    {
     "data": {
      "text/plain": [
       "'\\ny_pred_best = best_model.predict(X_test)\\n\\n# Evaluate performance with the best model\\naccuracy_best = accuracy_score(y_test, y_pred_best)\\nprecision_best = precision_score(y_test, y_pred_best, average=\\'weighted\\')\\nrecall_best = recall_score(y_test, y_pred_best, average=\\'weighted\\')\\nf1_best = f1_score(y_test, y_pred_best, average=\\'weighted\\')\\n\\nprint(\"\\nAccuracy with best hyperparameters:\", accuracy_best)\\nprint(\"Precision with best hyperparameters:\", precision_best)\\nprint(\"Recall with best hyperparameters:\", recall_best)\\nprint(\"F1-score with best hyperparameters:\", f1_best)\\n'"
      ]
     },
     "execution_count": 58,
     "metadata": {},
     "output_type": "execute_result"
    }
   ],
   "source": [
    "# Make predictions with the best model\n",
    "'''\n",
    "y_pred_best = best_model.predict(X_test)\n",
    "\n",
    "# Evaluate performance with the best model\n",
    "accuracy_best = accuracy_score(y_test, y_pred_best)\n",
    "precision_best = precision_score(y_test, y_pred_best, average='weighted')\n",
    "recall_best = recall_score(y_test, y_pred_best, average='weighted')\n",
    "f1_best = f1_score(y_test, y_pred_best, average='weighted')\n",
    "\n",
    "print(\"\\nAccuracy with best hyperparameters:\", accuracy_best)\n",
    "print(\"Precision with best hyperparameters:\", precision_best)\n",
    "print(\"Recall with best hyperparameters:\", recall_best)\n",
    "print(\"F1-score with best hyperparameters:\", f1_best)\n",
    "'''"
   ]
  },
  {
   "cell_type": "markdown",
   "id": "4de4b30f",
   "metadata": {},
   "source": [
    "# Logistic regression 1h"
   ]
  },
  {
   "cell_type": "code",
   "execution_count": 101,
   "id": "ea2d9985",
   "metadata": {},
   "outputs": [
    {
     "name": "stdout",
     "output_type": "stream",
     "text": [
      "Accuracy:0.842\n",
      "f1 Score: 0.8118330434133085\n",
      "Recall: 0.8058797957230923\n",
      "Precision: 0.8189981273116484\n",
      "Jaccard Score: 0.6900606367454558\n"
     ]
    }
   ],
   "source": [
    "import numpy as np\n",
    "from sklearn.linear_model import LogisticRegression\n",
    "from sklearn.preprocessing import StandardScaler  # Optional for scaling\n",
    "from sklearn.model_selection import train_test_split, GridSearchCV\n",
    "from sklearn.metrics import accuracy_score, precision_score, recall_score, f1_score\n",
    "\n",
    "# Best Parameters :  {'C': 0.75, 'random_state': 0}\n",
    "logistic_reg = LogisticRegression(C=0.75,random_state=0)\n",
    "\n",
    "# Train the logistic regression model\n",
    "logistic_reg.fit(X_train, y_train)\n",
    "\n",
    "# Make predictions on the test set\n",
    "y_pred = logistic_reg.predict(X_test)\n",
    "\n",
    "# Evaluate model performance\n",
    "acc=accuracy_score(y_test, y_pred, normalize=True, sample_weight=None)\n",
    "f1 = f1_score(y_test, y_pred, labels=None, pos_label=1, average='macro', sample_weight=None, zero_division='warn')\n",
    "re =recall_score(y_test, y_pred,labels=None, pos_label=1, average='macro', sample_weight=None, zero_division='warn')\n",
    "pre= precision_score(y_test,y_pred, labels=None, pos_label=1, average='macro', sample_weight=None, zero_division='warn')\n",
    "js = jaccard_score(y_test, y_pred,  labels=None, pos_label=1, average='macro', sample_weight=None, zero_division='warn')\n",
    "print(f'Accuracy:{acc}')\n",
    "print(f'f1 Score: {f1}')\n",
    "print(f'Recall: {re}')\n",
    "print(f'Precision: {pre}')\n",
    "print(f'Jaccard Score: {js}')"
   ]
  },
  {
   "cell_type": "code",
   "execution_count": 102,
   "id": "3caa334a",
   "metadata": {},
   "outputs": [
    {
     "name": "stdout",
     "output_type": "stream",
     "text": [
      "[[1553  170]\n",
      " [ 225  552]]\n"
     ]
    }
   ],
   "source": [
    "from sklearn.metrics import confusion_matrix\n",
    "confusion=confusion_matrix(y_test, y_pred)\n",
    "print(confusion)"
   ]
  },
  {
   "cell_type": "code",
   "execution_count": 103,
   "id": "77e1a7b3",
   "metadata": {},
   "outputs": [
    {
     "data": {
      "image/png": "[encoded data removed]",
      "text/plain": [
       "<Figure size 640x480 with 2 Axes>"
      ]
     },
     "metadata": {},
     "output_type": "display_data"
    }
   ],
   "source": [
    "from sklearn.metrics import ConfusionMatrixDisplay\n",
    "cf_matrix = confusion_matrix(y_test, y_pred)\n",
    "ConfusionMatrixDisplay.from_predictions(y_test, y_pred,cmap=plt.cm.Blues)\n",
    "plt.show()"
   ]
  },
  {
   "cell_type": "markdown",
   "id": "9ad0bea1",
   "metadata": {},
   "source": [
    "# Decision tree 1 h"
   ]
  },
  {
   "cell_type": "code",
   "execution_count": 104,
   "id": "bfc29b02",
   "metadata": {},
   "outputs": [
    {
     "name": "stdout",
     "output_type": "stream",
     "text": [
      "Accuracy:0.7808\n",
      "f1 Score: 0.7428871706328353\n",
      "Recall: 0.7416951816255357\n",
      "Precision: 0.7441461793318047\n",
      "Jaccard Score: 0.600821345814119\n"
     ]
    }
   ],
   "source": [
    "\n",
    "from sklearn.tree import DecisionTreeClassifier\n",
    "from sklearn.model_selection import GridSearchCV\n",
    "from sklearn.metrics import accuracy_score, precision_score, recall_score, f1_score,jaccard_score\n",
    "\n",
    "dtree = DecisionTreeClassifier()\n",
    "\n",
    "# Train the decision tree model\n",
    "dtree.fit(X_train, y_train)\n",
    "\n",
    "# Make predictions on the test set\n",
    "y_pred = dtree.predict(X_test)\n",
    "\n",
    "# Evaluate model performance\n",
    "acc=accuracy_score(y_test, y_pred, normalize=True, sample_weight=None)\n",
    "f1 = f1_score(y_test, y_pred, labels=None, pos_label=1, average='macro', sample_weight=None, zero_division='warn')\n",
    "re =recall_score(y_test, y_pred,labels=None, pos_label=1, average='macro', sample_weight=None, zero_division='warn')\n",
    "pre= precision_score(y_test,y_pred, labels=None, pos_label=1, average='macro', sample_weight=None, zero_division='warn')\n",
    "js = jaccard_score(y_test, y_pred,  labels=None, pos_label=1, average='macro', sample_weight=None, zero_division='warn')\n",
    "print(f'Accuracy:{acc}')\n",
    "print(f'f1 Score: {f1}')\n",
    "print(f'Recall: {re}')\n",
    "print(f'Precision: {pre}')\n",
    "print(f'Jaccard Score: {js}')\n"
   ]
  },
  {
   "cell_type": "code",
   "execution_count": 105,
   "id": "54c65fab",
   "metadata": {},
   "outputs": [
    {
     "name": "stdout",
     "output_type": "stream",
     "text": [
      "Accuracy:0.7908\n",
      "f1 Score: 0.7572842117417267\n",
      "Recall: 0.7588426250643314\n",
      "Precision: 0.7558247524664763\n",
      "Jaccard Score: 0.6179007207792458\n"
     ]
    }
   ],
   "source": [
    "# Best Parameters :  {'criterion': 'entropy', 'random_state': 0}\n",
    "\n",
    "dtree = DecisionTreeClassifier(criterion='entropy', random_state=0)\n",
    "\n",
    "dtree.fit(X_train, y_train)\n",
    "\n",
    "y_pred = dtree.predict(X_test)\n",
    "\n",
    "acc=accuracy_score(y_test, y_pred, normalize=True, sample_weight=None)\n",
    "f1 = f1_score(y_test, y_pred, labels=None, pos_label=1, average='macro', sample_weight=None, zero_division='warn')\n",
    "re =recall_score(y_test, y_pred,labels=None, pos_label=1, average='macro', sample_weight=None, zero_division='warn')\n",
    "pre= precision_score(y_test,y_pred, labels=None, pos_label=1, average='macro', sample_weight=None, zero_division='warn')\n",
    "js = jaccard_score(y_test, y_pred,  labels=None, pos_label=1, average='macro', sample_weight=None, zero_division='warn')\n",
    "print(f'Accuracy:{acc}')\n",
    "print(f'f1 Score: {f1}')\n",
    "print(f'Recall: {re}')\n",
    "print(f'Precision: {pre}')\n",
    "print(f'Jaccard Score: {js}')"
   ]
  },
  {
   "cell_type": "code",
   "execution_count": 106,
   "id": "6d9ae22a",
   "metadata": {},
   "outputs": [
    {
     "name": "stdout",
     "output_type": "stream",
     "text": [
      "[[1453  270]\n",
      " [ 253  524]]\n"
     ]
    }
   ],
   "source": [
    "from sklearn.metrics import confusion_matrix\n",
    "confusion=confusion_matrix(y_test, y_pred)\n",
    "print(confusion)"
   ]
  },
  {
   "cell_type": "code",
   "execution_count": 107,
   "id": "cf4768de",
   "metadata": {},
   "outputs": [
    {
     "data": {
      "image/png": "[encoded data removed]",
      "text/plain": [
       "<Figure size 640x480 with 2 Axes>"
      ]
     },
     "metadata": {},
     "output_type": "display_data"
    }
   ],
   "source": [
    "from sklearn.metrics import ConfusionMatrixDisplay\n",
    "cf_matrix = confusion_matrix(y_test, y_pred)\n",
    "ConfusionMatrixDisplay.from_predictions(y_test, y_pred,cmap=plt.cm.Blues)\n",
    "plt.show()"
   ]
  },
  {
   "cell_type": "code",
   "execution_count": 64,
   "id": "2d284f0e",
   "metadata": {},
   "outputs": [
    {
     "data": {
      "text/plain": [
       "'\\n\\nparam_grid = {\\'max_depth\\': range(2, 20), \\'min_samples_split\\': range(2, 10)}\\n\\n# dtree_cv = DecisionTreeClassifier()\\ngrid_search = GridSearchCV(dtree, param_grid, scoring=\\'accuracy\\', cv=5)\\ngrid_search.fit(X_train, y_train)\\n\\nbest_model = grid_search.best_estimator_\\nbest_params = grid_search.best_params_\\n\\nprint(\"\\nBest hyperparameters:\", best_params)\\n'"
      ]
     },
     "execution_count": 64,
     "metadata": {},
     "output_type": "execute_result"
    }
   ],
   "source": [
    "# Hyperparameter tuning with GridSearchCV\n",
    "'''\n",
    "\n",
    "param_grid = {'max_depth': range(2, 20), 'min_samples_split': range(2, 10)}\n",
    "\n",
    "# dtree_cv = DecisionTreeClassifier()\n",
    "grid_search = GridSearchCV(dtree, param_grid, scoring='accuracy', cv=5)\n",
    "grid_search.fit(X_train, y_train)\n",
    "\n",
    "best_model = grid_search.best_estimator_\n",
    "best_params = grid_search.best_params_\n",
    "\n",
    "print(\"\\nBest hyperparameters:\", best_params)\n",
    "'''\n"
   ]
  },
  {
   "cell_type": "code",
   "execution_count": 65,
   "id": "462beba0",
   "metadata": {},
   "outputs": [
    {
     "data": {
      "text/plain": [
       "'\\n\\n# Make predictions with the best model\\ny_pred_best = best_model.predict(X_test)\\n\\n# Evaluate performance with the best model\\naccuracy_best = accuracy_score(y_test, y_pred_best)\\nprecision_best = precision_score(y_test, y_pred_best, average=\\'weighted\\')\\nrecall_best = recall_score(y_test, y_pred_best, average=\\'weighted\\')\\nf1_best = f1_score(y_test, y_pred_best, average=\\'weighted\\')\\nprint(\"\\nAfter hyperparameter tuning:\")\\nprint(\"\\nAccuracy with best hyperparameters:\", accuracy_best)\\nprint(\"Precision with best hyperparameters:\", precision_best)\\nprint(\"Recall with best hyperparameters:\", recall_best)\\nprint(\"F1-score with best hyperparameters:\", f1_best)\\n'"
      ]
     },
     "execution_count": 65,
     "metadata": {},
     "output_type": "execute_result"
    }
   ],
   "source": [
    "'''\n",
    "\n",
    "# Make predictions with the best model\n",
    "y_pred_best = best_model.predict(X_test)\n",
    "\n",
    "# Evaluate performance with the best model\n",
    "accuracy_best = accuracy_score(y_test, y_pred_best)\n",
    "precision_best = precision_score(y_test, y_pred_best, average='weighted')\n",
    "recall_best = recall_score(y_test, y_pred_best, average='weighted')\n",
    "f1_best = f1_score(y_test, y_pred_best, average='weighted')\n",
    "print(\"\\nAfter hyperparameter tuning:\")\n",
    "print(\"\\nAccuracy with best hyperparameters:\", accuracy_best)\n",
    "print(\"Precision with best hyperparameters:\", precision_best)\n",
    "print(\"Recall with best hyperparameters:\", recall_best)\n",
    "print(\"F1-score with best hyperparameters:\", f1_best)\n",
    "'''\n"
   ]
  },
  {
   "cell_type": "code",
   "execution_count": null,
   "id": "798aa24e",
   "metadata": {},
   "outputs": [],
   "source": []
  },
  {
   "cell_type": "markdown",
   "id": "f04ef871",
   "metadata": {},
   "source": [
    "# XGboost h"
   ]
  },
  {
   "cell_type": "code",
   "execution_count": 108,
   "id": "fa5af4ba",
   "metadata": {},
   "outputs": [
    {
     "name": "stdout",
     "output_type": "stream",
     "text": [
      "Accuracy:0.8488\n",
      "f1 Score: 0.821347549909256\n",
      "Recall: 0.8175259248967897\n",
      "Precision: 0.8256303760156452\n",
      "Jaccard Score: 0.7028647655631614\n"
     ]
    }
   ],
   "source": [
    "import xgboost as xgb\n",
    "from sklearn.metrics import accuracy_score,precision_score,recall_score,f1_score\n",
    "# Create an XGBoost classifier with initial parameters\n",
    "xgb_model = xgb.XGBClassifier(objective='binary:logistic',  # for binary classification\n",
    "                             n_estimators=100,            # number of trees\n",
    "                             learning_rate=0.1,           # learning rate\n",
    "                             max_depth=5)                # maximum tree depth\n",
    "\n",
    "# Train the XGBoost model\n",
    "xgb_model.fit(X_train, y_train)\n",
    "\n",
    "# Make predictions on the test set\n",
    "y_pred = xgb_model.predict(X_test)\n",
    "\n",
    "# Evaluate model performance\n",
    "acc=accuracy_score(y_test, y_pred, normalize=True, sample_weight=None)\n",
    "f1 = f1_score(y_test, y_pred, labels=None, pos_label=1, average='macro', sample_weight=None, zero_division='warn')\n",
    "re =recall_score(y_test, y_pred,labels=None, pos_label=1, average='macro', sample_weight=None, zero_division='warn')\n",
    "pre= precision_score(y_test,y_pred, labels=None, pos_label=1, average='macro', sample_weight=None, zero_division='warn')\n",
    "js = jaccard_score(y_test, y_pred,  labels=None, pos_label=1, average='macro', sample_weight=None, zero_division='warn')\n",
    "print(f'Accuracy:{acc}')\n",
    "print(f'f1 Score: {f1}')\n",
    "print(f'Recall: {re}')\n",
    "print(f'Precision: {pre}')\n",
    "print(f'Jaccard Score: {js}')"
   ]
  },
  {
   "cell_type": "code",
   "execution_count": 109,
   "id": "05473082",
   "metadata": {},
   "outputs": [
    {
     "name": "stdout",
     "output_type": "stream",
     "text": [
      "Accuracy:0.8508\n",
      "f1 Score: 0.824804687756863\n",
      "Recall: 0.8228632828168522\n",
      "Precision: 0.8268602540834846\n",
      "Jaccard Score: 0.7074753369838782\n"
     ]
    }
   ],
   "source": [
    "#XGBClassifier(), [{'learning_rate': [0.01, 0.05, 0.1], 'eval_metric': ['error']}]),\n",
    "xgb_model =xgb.XGBClassifier(learning_rate=0.1, \n",
    "                          eval_metric='error',\n",
    "                          objective='binary:logistic',\n",
    "                            n_estimators=30,\n",
    "                          )\n",
    "xgb_model.fit(X_train, y_train)\n",
    "\n",
    "# Make predictions on the test set\n",
    "y_pred = xgb_model.predict(X_test)\n",
    "\n",
    "# Evaluate model performance\n",
    "acc=accuracy_score(y_test, y_pred, normalize=True, sample_weight=None)\n",
    "f1 = f1_score(y_test, y_pred, labels=None, pos_label=1, average='macro', sample_weight=None, zero_division='warn')\n",
    "re =recall_score(y_test, y_pred,labels=None, pos_label=1, average='macro', sample_weight=None, zero_division='warn')\n",
    "pre= precision_score(y_test,y_pred, labels=None, pos_label=1, average='macro', sample_weight=None, zero_division='warn')\n",
    "js = jaccard_score(y_test, y_pred,  labels=None, pos_label=1, average='macro', sample_weight=None, zero_division='warn')\n",
    "print(f'Accuracy:{acc}')\n",
    "print(f'f1 Score: {f1}')\n",
    "print(f'Recall: {re}')\n",
    "print(f'Precision: {pre}')\n",
    "print(f'Jaccard Score: {js}')"
   ]
  },
  {
   "cell_type": "code",
   "execution_count": 110,
   "id": "05a1cc6d",
   "metadata": {
    "scrolled": true
   },
   "outputs": [
    {
     "name": "stdout",
     "output_type": "stream",
     "text": [
      "[[1545  178]\n",
      " [ 195  582]]\n"
     ]
    }
   ],
   "source": [
    "from sklearn.metrics import confusion_matrix\n",
    "confusion=confusion_matrix(y_test, y_pred)\n",
    "print(confusion)"
   ]
  },
  {
   "cell_type": "code",
   "execution_count": 111,
   "id": "3cd97253",
   "metadata": {},
   "outputs": [
    {
     "data": {
      "image/png": "[encoded data removed]",
      "text/plain": [
       "<Figure size 640x480 with 2 Axes>"
      ]
     },
     "metadata": {},
     "output_type": "display_data"
    }
   ],
   "source": [
    "from sklearn.metrics import ConfusionMatrixDisplay\n",
    "cf_matrix = confusion_matrix(y_test, y_pred)\n",
    "ConfusionMatrixDisplay.from_predictions(y_test, y_pred,cmap=plt.cm.Blues)\n",
    "plt.show()"
   ]
  },
  {
   "cell_type": "code",
   "execution_count": 69,
   "id": "db23daca",
   "metadata": {},
   "outputs": [
    {
     "data": {
      "text/plain": [
       "'\\n# Hyperparameter tuning with GridSearchCV \\nparam_grid = {\\'n_estimators\\': range(50, 200, 50), \\n              \\'learning_rate\\': [0.05, 0.1, 0.2],\\n              \\'max_depth\\': [3, 5, 8]}\\n\\nxgb_cv = xgb.XGBClassifier()\\ngrid_search = GridSearchCV(xgb_cv, param_grid, scoring=\\'accuracy\\', cv=5)\\ngrid_search.fit(X_train, y_train)\\n\\nbest_model = grid_search.best_estimator_\\nbest_params = grid_search.best_params_\\n\\nprint(\"\\nBest parameters:\", best_params)\\n'"
      ]
     },
     "execution_count": 69,
     "metadata": {},
     "output_type": "execute_result"
    }
   ],
   "source": [
    "'''\n",
    "# Hyperparameter tuning with GridSearchCV \n",
    "param_grid = {'n_estimators': range(50, 200, 50), \n",
    "              'learning_rate': [0.05, 0.1, 0.2],\n",
    "              'max_depth': [3, 5, 8]}\n",
    "\n",
    "xgb_cv = xgb.XGBClassifier()\n",
    "grid_search = GridSearchCV(xgb_cv, param_grid, scoring='accuracy', cv=5)\n",
    "grid_search.fit(X_train, y_train)\n",
    "\n",
    "best_model = grid_search.best_estimator_\n",
    "best_params = grid_search.best_params_\n",
    "\n",
    "print(\"\\nBest parameters:\", best_params)\n",
    "'''\n"
   ]
  },
  {
   "cell_type": "code",
   "execution_count": 70,
   "id": "3d2ac4f8",
   "metadata": {},
   "outputs": [
    {
     "data": {
      "text/plain": [
       "'\\n# Make predictions with the best model\\ny_pred_best = best_model.predict(X_test)\\n\\n# Evaluate performance with the best model\\naccuracy_best = accuracy_score(y_test, y_pred_best)\\nprecision_best = precision_score(y_test, y_pred_best, average=\\'weighted\\')\\nrecall_best = recall_score(y_test, y_pred_best, average=\\'weighted\\')\\nf1_best = f1_score(y_test, y_pred_best, average=\\'weighted\\')\\n\\nprint(\"\\nAccuracy with best parameters:\", accuracy_best)\\nprint(\"Precision with best parameters:\", precision_best)\\nprint(\"Recall with best parameters:\", recall_best)\\nprint(\"F1-score with best parameters:\", f1_best)\\n'"
      ]
     },
     "execution_count": 70,
     "metadata": {},
     "output_type": "execute_result"
    }
   ],
   "source": [
    "'''\n",
    "# Make predictions with the best model\n",
    "y_pred_best = best_model.predict(X_test)\n",
    "\n",
    "# Evaluate performance with the best model\n",
    "accuracy_best = accuracy_score(y_test, y_pred_best)\n",
    "precision_best = precision_score(y_test, y_pred_best, average='weighted')\n",
    "recall_best = recall_score(y_test, y_pred_best, average='weighted')\n",
    "f1_best = f1_score(y_test, y_pred_best, average='weighted')\n",
    "\n",
    "print(\"\\nAccuracy with best parameters:\", accuracy_best)\n",
    "print(\"Precision with best parameters:\", precision_best)\n",
    "print(\"Recall with best parameters:\", recall_best)\n",
    "print(\"F1-score with best parameters:\", f1_best)\n",
    "'''"
   ]
  },
  {
   "cell_type": "markdown",
   "id": "c65693a4",
   "metadata": {},
   "source": [
    "\n",
    "# Randon forest"
   ]
  },
  {
   "cell_type": "code",
   "execution_count": 112,
   "id": "c68cde9c",
   "metadata": {},
   "outputs": [
    {
     "data": {
      "text/html": [
       "<style>#sk-container-id-6 {color: black;}#sk-container-id-6 pre{padding: 0;}#sk-container-id-6 div.sk-toggleable {background-color: white;}#sk-container-id-6 label.sk-toggleable__label {cursor: pointer;display: block;width: 100%;margin-bottom: 0;padding: 0.3em;box-sizing: border-box;text-align: center;}#sk-container-id-6 label.sk-toggleable__label-arrow:before {content: \"▸\";float: left;margin-right: 0.25em;color: #696969;}#sk-container-id-6 label.sk-toggleable__label-arrow:hover:before {color: black;}#sk-container-id-6 div.sk-estimator:hover label.sk-toggleable__label-arrow:before {color: black;}#sk-container-id-6 div.sk-toggleable__content {max-height: 0;max-width: 0;overflow: hidden;text-align: left;background-color: #f0f8ff;}#sk-container-id-6 div.sk-toggleable__content pre {margin: 0.2em;color: black;border-radius: 0.25em;background-color: #f0f8ff;}#sk-container-id-6 input.sk-toggleable__control:checked~div.sk-toggleable__content {max-height: 200px;max-width: 100%;overflow: auto;}#sk-container-id-6 input.sk-toggleable__control:checked~label.sk-toggleable__label-arrow:before {content: \"▾\";}#sk-container-id-6 div.sk-estimator input.sk-toggleable__control:checked~label.sk-toggleable__label {background-color: #d4ebff;}#sk-container-id-6 div.sk-label input.sk-toggleable__control:checked~label.sk-toggleable__label {background-color: #d4ebff;}#sk-container-id-6 input.sk-hidden--visually {border: 0;clip: rect(1px 1px 1px 1px);clip: rect(1px, 1px, 1px, 1px);height: 1px;margin: -1px;overflow: hidden;padding: 0;position: absolute;width: 1px;}#sk-container-id-6 div.sk-estimator {font-family: monospace;background-color: #f0f8ff;border: 1px dotted black;border-radius: 0.25em;box-sizing: border-box;margin-bottom: 0.5em;}#sk-container-id-6 div.sk-estimator:hover {background-color: #d4ebff;}#sk-container-id-6 div.sk-parallel-item::after {content: \"\";width: 100%;border-bottom: 1px solid gray;flex-grow: 1;}#sk-container-id-6 div.sk-label:hover label.sk-toggleable__label {background-color: #d4ebff;}#sk-container-id-6 div.sk-serial::before {content: \"\";position: absolute;border-left: 1px solid gray;box-sizing: border-box;top: 0;bottom: 0;left: 50%;z-index: 0;}#sk-container-id-6 div.sk-serial {display: flex;flex-direction: column;align-items: center;background-color: white;padding-right: 0.2em;padding-left: 0.2em;position: relative;}#sk-container-id-6 div.sk-item {position: relative;z-index: 1;}#sk-container-id-6 div.sk-parallel {display: flex;align-items: stretch;justify-content: center;background-color: white;position: relative;}#sk-container-id-6 div.sk-item::before, #sk-container-id-6 div.sk-parallel-item::before {content: \"\";position: absolute;border-left: 1px solid gray;box-sizing: border-box;top: 0;bottom: 0;left: 50%;z-index: -1;}#sk-container-id-6 div.sk-parallel-item {display: flex;flex-direction: column;z-index: 1;position: relative;background-color: white;}#sk-container-id-6 div.sk-parallel-item:first-child::after {align-self: flex-end;width: 50%;}#sk-container-id-6 div.sk-parallel-item:last-child::after {align-self: flex-start;width: 50%;}#sk-container-id-6 div.sk-parallel-item:only-child::after {width: 0;}#sk-container-id-6 div.sk-dashed-wrapped {border: 1px dashed gray;margin: 0 0.4em 0.5em 0.4em;box-sizing: border-box;padding-bottom: 0.4em;background-color: white;}#sk-container-id-6 div.sk-label label {font-family: monospace;font-weight: bold;display: inline-block;line-height: 1.2em;}#sk-container-id-6 div.sk-label-container {text-align: center;}#sk-container-id-6 div.sk-container {/* jupyter's `normalize.less` sets `[hidden] { display: none; }` but bootstrap.min.css set `[hidden] { display: none !important; }` so we also need the `!important` here to be able to override the default hidden behavior on the sphinx rendered scikit-learn.org. See: https://github.com/scikit-learn/scikit-learn/issues/21755 */display: inline-block !important;position: relative;}#sk-container-id-6 div.sk-text-repr-fallback {display: none;}</style><div id=\"sk-container-id-6\" class=\"sk-top-container\"><div class=\"sk-text-repr-fallback\"><pre>RandomForestClassifier()</pre><b>In a Jupyter environment, please rerun this cell to show the HTML representation or trust the notebook. <br />On GitHub, the HTML representation is unable to render, please try loading this page with nbviewer.org.</b></div><div class=\"sk-container\" hidden><div class=\"sk-item\"><div class=\"sk-estimator sk-toggleable\"><input class=\"sk-toggleable__control sk-hidden--visually\" id=\"sk-estimator-id-6\" type=\"checkbox\" checked><label for=\"sk-estimator-id-6\" class=\"sk-toggleable__label sk-toggleable__label-arrow\">RandomForestClassifier</label><div class=\"sk-toggleable__content\"><pre>RandomForestClassifier()</pre></div></div></div></div></div>"
      ],
      "text/plain": [
       "RandomForestClassifier()"
      ]
     },
     "execution_count": 112,
     "metadata": {},
     "output_type": "execute_result"
    }
   ],
   "source": [
    "from sklearn.ensemble import RandomForestClassifier\n",
    "RFC = RandomForestClassifier() \n",
    "RFC.fit(X_train, y_train) "
   ]
  },
  {
   "cell_type": "code",
   "execution_count": 113,
   "id": "c99263ca",
   "metadata": {},
   "outputs": [
    {
     "name": "stdout",
     "output_type": "stream",
     "text": [
      "Accuracy:0.838\n",
      "f1 Score: 0.8067738872799964\n",
      "Recall: 0.8005047166393655\n",
      "Precision: 0.8144310639668114\n",
      "Jaccard Score: 0.6832615426033113\n"
     ]
    }
   ],
   "source": [
    "y_pred = RFC.predict(X_test)\n",
    "\n",
    "acc=accuracy_score(y_test, y_pred, normalize=True, sample_weight=None)\n",
    "f1 = f1_score(y_test, y_pred, labels=None, pos_label=1, average='macro', sample_weight=None, zero_division='warn')\n",
    "re =recall_score(y_test, y_pred,labels=None, pos_label=1, average='macro', sample_weight=None, zero_division='warn')\n",
    "pre= precision_score(y_test,y_pred, labels=None, pos_label=1, average='macro', sample_weight=None, zero_division='warn')\n",
    "js = jaccard_score(y_test, y_pred,  labels=None, pos_label=1, average='macro', sample_weight=None, zero_division='warn')\n",
    "print(f'Accuracy:{acc}')\n",
    "print(f'f1 Score: {f1}')\n",
    "print(f'Recall: {re}')\n",
    "print(f'Precision: {pre}')\n",
    "print(f'Jaccard Score: {js}')"
   ]
  },
  {
   "cell_type": "code",
   "execution_count": 114,
   "id": "87bd7c42",
   "metadata": {},
   "outputs": [
    {
     "name": "stdout",
     "output_type": "stream",
     "text": [
      "Accuracy:0.846\n",
      "f1 Score: 0.8171525532817459\n",
      "Recall: 0.8119614930410055\n",
      "Precision: 0.8232296261899235\n",
      "Jaccard Score: 0.6972336495676266\n"
     ]
    }
   ],
   "source": [
    "# Best Parameters :  {'criterion': 'entropy', 'n_estimators': 150, 'random_state': 0}\n",
    "RFC = RandomForestClassifier(criterion='log_loss',n_estimators=100,random_state=0,max_depth=40,max_leaf_nodes=400) \n",
    "RFC.fit(X_train, y_train) \n",
    "\n",
    "y_pred = RFC.predict(X_test)\n",
    "\n",
    "acc=accuracy_score(y_test, y_pred, normalize=True, sample_weight=None)\n",
    "f1 = f1_score(y_test, y_pred, labels=None, pos_label=1, average='macro', sample_weight=None, zero_division='warn')\n",
    "re =recall_score(y_test, y_pred,labels=None, pos_label=1, average='macro', sample_weight=None, zero_division='warn')\n",
    "pre= precision_score(y_test,y_pred, labels=None, pos_label=1, average='macro', sample_weight=None, zero_division='warn')\n",
    "js = jaccard_score(y_test, y_pred,  labels=None, pos_label=1, average='macro', sample_weight=None, zero_division='warn')\n",
    "print(f'Accuracy:{acc}')\n",
    "print(f'f1 Score: {f1}')\n",
    "print(f'Recall: {re}')\n",
    "print(f'Precision: {pre}')\n",
    "print(f'Jaccard Score: {js}')"
   ]
  },
  {
   "cell_type": "code",
   "execution_count": 115,
   "id": "88bdb9cd",
   "metadata": {},
   "outputs": [
    {
     "name": "stdout",
     "output_type": "stream",
     "text": [
      "[[1554  169]\n",
      " [ 216  561]]\n"
     ]
    }
   ],
   "source": [
    "from sklearn.metrics import confusion_matrix\n",
    "confusion=confusion_matrix(y_test, y_pred)\n",
    "print(confusion)"
   ]
  },
  {
   "cell_type": "code",
   "execution_count": 116,
   "id": "6759f472",
   "metadata": {},
   "outputs": [
    {
     "data": {
      "image/png": "[encoded data removed]",
      "text/plain": [
       "<Figure size 640x480 with 2 Axes>"
      ]
     },
     "metadata": {},
     "output_type": "display_data"
    }
   ],
   "source": [
    "from sklearn.metrics import ConfusionMatrixDisplay\n",
    "cf_matrix = confusion_matrix(y_test, y_pred)\n",
    "ConfusionMatrixDisplay.from_predictions(y_test, y_pred,cmap=plt.cm.Blues)\n",
    "plt.show()"
   ]
  },
  {
   "cell_type": "code",
   "execution_count": 75,
   "id": "9a923d50",
   "metadata": {},
   "outputs": [],
   "source": [
    "#hyperparamter\n",
    "# from sklearn.model_selection import GridSearchCV,RandomizedSearchCV\n",
    "# param_grid = { \n",
    "#     'n_estimators': [25, 50, 100, 150], \n",
    "#     'max_features': ['sqrt', 'log2', None], \n",
    "#     'max_depth': [3, 6, 9], \n",
    "#     'max_leaf_nodes': [3, 6, 9], \n",
    "# }"
   ]
  },
  {
   "cell_type": "code",
   "execution_count": 76,
   "id": "597c9027",
   "metadata": {},
   "outputs": [],
   "source": [
    "# from sklearn.ensemble import RandomForestClassifier\n",
    "# from sklearn.metrics import accuracy_score\n",
    "# # Create the random forest classifier with the best hyperparameters\n",
    "# clf = RandomForestClassifier(criterion='entropy', n_estimators=150, random_state=0)\n",
    "\n",
    "# # Train the model on the training data\n",
    "# clf.fit(X_train, y_train)\n",
    "\n",
    "# # Make predictions on the testing data\n",
    "# y_pred = clf.predict(X_test)\n",
    "\n",
    "# # Calculate the accuracy\n",
    "# accuracy = accuracy_score(y_test, y_pred)\n",
    "\n",
    "# print(\"Accuracy of the model:\", accuracy)\n"
   ]
  },
  {
   "cell_type": "code",
   "execution_count": 77,
   "id": "4988c6bf",
   "metadata": {},
   "outputs": [],
   "source": [
    "# grid_search = GridSearchCV(RandomForestClassifier(),param_grid=param_grid) \n",
    "# grid_search.fit(X_n_train, y_train) \n",
    "# print(grid_search.best_estimator_)\n"
   ]
  },
  {
   "cell_type": "code",
   "execution_count": 78,
   "id": "2409fd74",
   "metadata": {},
   "outputs": [],
   "source": [
    "#RandomForestClassifier(max_depth=9, max_features=None, max_leaf_nodes=9,n_estimators=50)"
   ]
  },
  {
   "cell_type": "code",
   "execution_count": 79,
   "id": "3d71e94d",
   "metadata": {},
   "outputs": [],
   "source": [
    "# model_grid = RandomForestClassifier(max_depth=9,max_leaf_nodes=9,n_estimators=50) \n",
    "# model_grid.fit(X_train, y_train) \n",
    "# y_pred_grid = model_grid.predict(X_test)\n",
    "\n",
    "# acc=accuracy_score(y_test, y_pred, normalize=True, sample_weight=None)\n",
    "# f1 = f1_score(y_test, y_pred_grid, labels=None, pos_label=1, average='macro', sample_weight=None, zero_division='warn')\n",
    "# re =recall_score(y_test, y_pred_grid,labels=None, pos_label=1, average='macro', sample_weight=None, zero_division='warn')\n",
    "# pre= precision_score(y_test,y_pred_grid, labels=None, pos_label=1, average='macro', sample_weight=None, zero_division='warn')\n",
    "# js = jaccard_score(y_test, y_pred_grid,  labels=None, pos_label=1, average='macro', sample_weight=None, zero_division='warn')\n",
    "# print(f'Accuracy:{acc}')\n",
    "# print(f'f1 Score: {f1}')\n",
    "# print(f'Recall: {re}')\n",
    "# print(f'Precision: {pre}')\n",
    "# print(f'Jaccard Score: {js}')"
   ]
  }
 ],
 "metadata": {
  "kernelspec": {
   "display_name": "Python 3 (ipykernel)",
   "language": "python",
   "name": "python3"
  },
  "language_info": {
   "codemirror_mode": {
    "name": "ipython",
    "version": 3
   },
   "file_extension": ".py",
   "mimetype": "text/x-python",
   "name": "python",
   "nbconvert_exporter": "python",
   "pygments_lexer": "ipython3",
   "version": "3.11.5"
  }
 },
 "nbformat": 4,
 "nbformat_minor": 5
}
